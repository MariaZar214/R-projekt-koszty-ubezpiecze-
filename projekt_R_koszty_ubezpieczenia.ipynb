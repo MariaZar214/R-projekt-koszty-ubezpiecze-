{
 "cells": [
  {
   "cell_type": "code",
   "execution_count": 182,
   "id": "20a9c262",
   "metadata": {},
   "outputs": [
    {
     "data": {
      "text/html": [
       "<table>\n",
       "<thead><tr><th scope=col>age</th><th scope=col>sex</th><th scope=col>bmi</th><th scope=col>children</th><th scope=col>smoker</th><th scope=col>region</th><th scope=col>charges</th></tr></thead>\n",
       "<tbody>\n",
       "\t<tr><td>19       </td><td>female   </td><td>27.900   </td><td>0        </td><td>yes      </td><td>southwest</td><td>16884.924</td></tr>\n",
       "\t<tr><td>18       </td><td>male     </td><td>33.770   </td><td>1        </td><td>no       </td><td>southeast</td><td> 1725.552</td></tr>\n",
       "\t<tr><td>28       </td><td>male     </td><td>33.000   </td><td>3        </td><td>no       </td><td>southeast</td><td> 4449.462</td></tr>\n",
       "\t<tr><td>33       </td><td>male     </td><td>22.705   </td><td>0        </td><td>no       </td><td>northwest</td><td>21984.471</td></tr>\n",
       "\t<tr><td>32       </td><td>male     </td><td>28.880   </td><td>0        </td><td>no       </td><td>northwest</td><td> 3866.855</td></tr>\n",
       "\t<tr><td>31       </td><td>female   </td><td>25.740   </td><td>0        </td><td>no       </td><td>southeast</td><td> 3756.622</td></tr>\n",
       "</tbody>\n",
       "</table>\n"
      ],
      "text/latex": [
       "\\begin{tabular}{r|lllllll}\n",
       " age & sex & bmi & children & smoker & region & charges\\\\\n",
       "\\hline\n",
       "\t 19        & female    & 27.900    & 0         & yes       & southwest & 16884.924\\\\\n",
       "\t 18        & male      & 33.770    & 1         & no        & southeast &  1725.552\\\\\n",
       "\t 28        & male      & 33.000    & 3         & no        & southeast &  4449.462\\\\\n",
       "\t 33        & male      & 22.705    & 0         & no        & northwest & 21984.471\\\\\n",
       "\t 32        & male      & 28.880    & 0         & no        & northwest &  3866.855\\\\\n",
       "\t 31        & female    & 25.740    & 0         & no        & southeast &  3756.622\\\\\n",
       "\\end{tabular}\n"
      ],
      "text/markdown": [
       "\n",
       "| age | sex | bmi | children | smoker | region | charges |\n",
       "|---|---|---|---|---|---|---|\n",
       "| 19        | female    | 27.900    | 0         | yes       | southwest | 16884.924 |\n",
       "| 18        | male      | 33.770    | 1         | no        | southeast |  1725.552 |\n",
       "| 28        | male      | 33.000    | 3         | no        | southeast |  4449.462 |\n",
       "| 33        | male      | 22.705    | 0         | no        | northwest | 21984.471 |\n",
       "| 32        | male      | 28.880    | 0         | no        | northwest |  3866.855 |\n",
       "| 31        | female    | 25.740    | 0         | no        | southeast |  3756.622 |\n",
       "\n"
      ],
      "text/plain": [
       "  age sex    bmi    children smoker region    charges  \n",
       "1 19  female 27.900 0        yes    southwest 16884.924\n",
       "2 18  male   33.770 1        no     southeast  1725.552\n",
       "3 28  male   33.000 3        no     southeast  4449.462\n",
       "4 33  male   22.705 0        no     northwest 21984.471\n",
       "5 32  male   28.880 0        no     northwest  3866.855\n",
       "6 31  female 25.740 0        no     southeast  3756.622"
      ]
     },
     "metadata": {},
     "output_type": "display_data"
    }
   ],
   "source": [
    "data=read.table(\"mcp.txt\", header=TRUE, sep=\",\")\n",
    "head(data)"
   ]
  },
  {
   "cell_type": "markdown",
   "id": "618b9c5f",
   "metadata": {},
   "source": [
    "Dane zawierają w sobie informację o kosztach ubezpieczenia dla osób, a także wiek tych osób, płeć, bmi, ilość dzieci, czy dana osoba pali, i rejon, z której pochodzi. Chcemy stworzyć model, który umożliwi predykcję ksztów ubezpieczenia (charges) na podstawie danych w pliku mcp. txt"
   ]
  },
  {
   "cell_type": "markdown",
   "id": "bd1ea13f",
   "metadata": {},
   "source": [
    "1. Charakterystyka numeryczna i graficzna"
   ]
  },
  {
   "cell_type": "markdown",
   "id": "89e4476e",
   "metadata": {},
   "source": [
    "Zacznijmy od zmiennej charges:"
   ]
  },
  {
   "cell_type": "code",
   "execution_count": 478,
   "id": "16674002",
   "metadata": {},
   "outputs": [
    {
     "name": "stderr",
     "output_type": "stream",
     "text": [
      "`stat_bin()` using `bins = 30`. Pick better value with `binwidth`.\n"
     ]
    },
    {
     "data": {
      "image/png": "[encoded data removed]",
      "text/plain": [
       "plot without title"
      ]
     },
     "metadata": {},
     "output_type": "display_data"
    },
    {
     "data": {
      "text/html": [
       "9382.033"
      ],
      "text/latex": [
       "9382.033"
      ],
      "text/markdown": [
       "9382.033"
      ],
      "text/plain": [
       "[1] 9382.033"
      ]
     },
     "metadata": {},
     "output_type": "display_data"
    },
    {
     "data": {
      "text/html": [
       "146652372.152855"
      ],
      "text/latex": [
       "146652372.152855"
      ],
      "text/markdown": [
       "146652372.152855"
      ],
      "text/plain": [
       "[1] 146652372"
      ]
     },
     "metadata": {},
     "output_type": "display_data"
    },
    {
     "data": {
      "text/html": [
       "12110.011236694"
      ],
      "text/latex": [
       "12110.011236694"
      ],
      "text/markdown": [
       "12110.011236694"
      ],
      "text/plain": [
       "[1] 12110.01"
      ]
     },
     "metadata": {},
     "output_type": "display_data"
    },
    {
     "data": {
      "text/html": [
       "1121.8739"
      ],
      "text/latex": [
       "1121.8739"
      ],
      "text/markdown": [
       "1121.8739"
      ],
      "text/plain": [
       "[1] 1121.874"
      ]
     },
     "metadata": {},
     "output_type": "display_data"
    },
    {
     "data": {
      "text/html": [
       "63770.42801"
      ],
      "text/latex": [
       "63770.42801"
      ],
      "text/markdown": [
       "63770.42801"
      ],
      "text/plain": [
       "[1] 63770.43"
      ]
     },
     "metadata": {},
     "output_type": "display_data"
    },
    {
     "data": {
      "image/png": "[encoded data removed]",
      "text/plain": [
       "plot without title"
      ]
     },
     "metadata": {},
     "output_type": "display_data"
    }
   ],
   "source": [
    "library(ggplot2)\n",
    "histogram = ggplot(data, aes(data$charges)) + \n",
    "  geom_histogram(color=\"black\", fill=\"white\") + ggtitle(\"Histogram dla danych charges\")\n",
    "histogram\n",
    "bp=ggplot(data, aes(y=data$charges)) + \n",
    "  geom_boxplot() + ggtitle(\"Boxplot dla danych charges\")\n",
    "bp\n",
    "median(data$charges); var(data$charges); sd(data$charges); min(data$charges); max(data$charges)"
   ]
  },
  {
   "cell_type": "code",
   "execution_count": 264,
   "id": "a90a17cf",
   "metadata": {},
   "outputs": [
    {
     "data": {
      "text/html": [
       "0.060606060606061"
      ],
      "text/latex": [
       "0.060606060606061"
      ],
      "text/markdown": [
       "0.060606060606061"
      ],
      "text/plain": [
       "[1] 0.06060606"
      ]
     },
     "metadata": {},
     "output_type": "display_data"
    },
    {
     "data": {
      "image/png": "[encoded data removed]",
      "text/plain": [
       "plot without title"
      ]
     },
     "metadata": {},
     "output_type": "display_data"
    }
   ],
   "source": [
    "x=data$charges\n",
    "library(MASS)\n",
    "b=boxcox(lm(x ~ 1))\n",
    "lambda <- b$x[which.max(b$y)]\n",
    "lambda"
   ]
  },
  {
   "cell_type": "markdown",
   "id": "da030b2c",
   "metadata": {},
   "source": [
    "Z powyższych wykresów widać, że dane charges nie należa do rozkładu normalnego, bardziej wygląda na to, że jest to rozkład wykładniczy. Mediana wynosi 9382.033, lecz dane posiadają bardzo dużą wariancję i odchylenie standardowe. Spróbujmy przekształcić te dane tak, aby miały rozkład normalny, stosują transformację logarytmiczną (ponieważ lambda wyszła bliska 0):"
   ]
  },
  {
   "cell_type": "code",
   "execution_count": 481,
   "id": "f31a73ba",
   "metadata": {},
   "outputs": [
    {
     "name": "stderr",
     "output_type": "stream",
     "text": [
      "`stat_bin()` using `bins = 30`. Pick better value with `binwidth`.\n"
     ]
    },
    {
     "data": {
      "image/png": "[encoded data removed]",
      "text/plain": [
       "plot without title"
      ]
     },
     "metadata": {},
     "output_type": "display_data"
    },
    {
     "data": {
      "text/plain": [
       "\n",
       "\tShapiro-Wilk normality test\n",
       "\n",
       "data:  transformed_data\n",
       "W = 0.98316, p-value = 2.291e-11\n"
      ]
     },
     "metadata": {},
     "output_type": "display_data"
    },
    {
     "data": {
      "text/plain": [
       "\n",
       "\tShapiro-Wilk normality test\n",
       "\n",
       "data:  n\n",
       "W = 0.98338, p-value = 2.843e-11\n"
      ]
     },
     "metadata": {},
     "output_type": "display_data"
    },
    {
     "name": "stderr",
     "output_type": "stream",
     "text": [
      "`stat_bin()` using `bins = 30`. Pick better value with `binwidth`.\n"
     ]
    },
    {
     "data": {
      "image/png": "[encoded data removed]",
      "text/plain": [
       "plot without title"
      ]
     },
     "metadata": {},
     "output_type": "display_data"
    },
    {
     "data": {
      "image/png": "[encoded data removed]",
      "text/plain": [
       "plot without title"
      ]
     },
     "metadata": {},
     "output_type": "display_data"
    }
   ],
   "source": [
    "options(repr.plot.width=10, repr.plot.height=5)\n",
    "transformed_data=log(data$charges)\n",
    "histogram = ggplot(data, aes(transformed_data)) + \n",
    "  geom_histogram(color=\"black\", fill=\"white\") + ggtitle(\"Histogram dla zlogarytmowanych danych charges\")\n",
    "histogram\n",
    "bp=ggplot(data, aes(y=transformed_data)) + \n",
    "  geom_boxplot() + ggtitle(\"Boxplot dla zlogarytmowanych danych charges\")\n",
    "bp\n",
    "shapiro.test(transformed_data)\n",
    "n <- (x ^ lambda - 1) / lambda\n",
    "shapiro.test(n)\n",
    "histogram = ggplot(data, aes(n)) + \n",
    "  geom_histogram(color=\"black\", fill=\"white\") + ggtitle(\"Histogram dla danych charges po transformacji box-cox\")\n",
    "histogram\n"
   ]
  },
  {
   "cell_type": "markdown",
   "id": "c39fb36e",
   "metadata": {},
   "source": [
    "Po tranformacji dane na wykresach wyglądają tak, jakby pochodziły z rozkładu normalnego, lecz test Shapiro-Wilka wskazuje na to, że musimy odrzucić hipotezę zerową o tym, że dane należą do rozkładu normalnego. Użycie dokładnej wartości lambda z tranformacji Box-Cox też nie pomogło w przekształceniu danych do rozkładu normalnego."
   ]
  },
  {
   "cell_type": "code",
   "execution_count": 266,
   "id": "a2a42e60",
   "metadata": {},
   "outputs": [
    {
     "data": {
      "image/png": "[encoded data removed]",
      "text/plain": [
       "Plot with title \"Normal Q-Q Plot\""
      ]
     },
     "metadata": {},
     "output_type": "display_data"
    },
    {
     "data": {
      "image/png": "[encoded data removed]",
      "text/plain": [
       "Plot with title \"Exponential Q-Q Plot\""
      ]
     },
     "metadata": {},
     "output_type": "display_data"
    }
   ],
   "source": [
    "qqnorm(transformed_data, pch = 1, frame = FALSE) \n",
    "qqline(transformed_data, col = \"steelblue\", lwd = 2)\n",
    "p <- ppoints(100)    # 100 equally spaced points on (0,1), excluding endpoints\n",
    "q <- quantile(data$charges,p=p)\n",
    "plot(qexp(p) ,q, main=\"Exponential Q-Q Plot\",\n",
    "     xlab=\"Theoretical Quantiles\",ylab=\"Sample Quantiles\")\n",
    "qqline(q, distribution=qexp,col=\"blue\", lty=2)"
   ]
  },
  {
   "cell_type": "markdown",
   "id": "3c155286",
   "metadata": {},
   "source": [
    "QQ-plot ujawnia to, że reszty nie mają rozkładu normalnego, występuje tzw \"heavy tails\", czyli w naszych danych mamy dużo obserwacji o wartościach krytycznych. To jest dość logiczne, znając jakie dane mamy, ponieważ w przypadku kosztów ubezpieczenia możliwa jest sytuacja, kiedy mamy dużo osób które płacą bardzo mało. Zrobiono QQ-Plot też dla modelu wykładniczego, i wygląda lepiej niż dla rozkładu normalnego, lecz też reszty nie są całkiem dopasowane do modelu teoretycznego. Ponieważ dane, które chcemy zmodelować - charges - nie należą do rozkładu normalnego, nie można będzie użyć zwykłego moledu liniowego."
   ]
  },
  {
   "cell_type": "code",
   "execution_count": 482,
   "id": "cbdada46",
   "metadata": {},
   "outputs": [
    {
     "name": "stderr",
     "output_type": "stream",
     "text": [
      "`stat_bin()` using `bins = 30`. Pick better value with `binwidth`.\n"
     ]
    },
    {
     "data": {
      "text/html": [
       "39.2070254110613"
      ],
      "text/latex": [
       "39.2070254110613"
      ],
      "text/markdown": [
       "39.2070254110613"
      ],
      "text/plain": [
       "[1] 39.20703"
      ]
     },
     "metadata": {},
     "output_type": "display_data"
    },
    {
     "data": {
      "text/html": [
       "197.401386657544"
      ],
      "text/latex": [
       "197.401386657544"
      ],
      "text/markdown": [
       "197.401386657544"
      ],
      "text/plain": [
       "[1] 197.4014"
      ]
     },
     "metadata": {},
     "output_type": "display_data"
    },
    {
     "data": {
      "text/html": [
       "14.0499603792162"
      ],
      "text/latex": [
       "14.0499603792162"
      ],
      "text/markdown": [
       "14.0499603792162"
      ],
      "text/plain": [
       "[1] 14.04996"
      ]
     },
     "metadata": {},
     "output_type": "display_data"
    },
    {
     "data": {
      "text/html": [
       "18"
      ],
      "text/latex": [
       "18"
      ],
      "text/markdown": [
       "18"
      ],
      "text/plain": [
       "[1] 18"
      ]
     },
     "metadata": {},
     "output_type": "display_data"
    },
    {
     "data": {
      "text/html": [
       "64"
      ],
      "text/latex": [
       "64"
      ],
      "text/markdown": [
       "64"
      ],
      "text/plain": [
       "[1] 64"
      ]
     },
     "metadata": {},
     "output_type": "display_data"
    },
    {
     "data": {
      "image/png": "[encoded data removed]",
      "text/plain": [
       "plot without title"
      ]
     },
     "metadata": {},
     "output_type": "display_data"
    }
   ],
   "source": [
    "histogram = ggplot(data, aes(age)) + \n",
    "  geom_histogram(color=\"black\", fill=\"white\") + ggtitle(\"Histogram dla danych age\")\n",
    "histogram\n",
    "mean(data$age); var(data$age); sd(data$age); min(data$age); max(data$age)"
   ]
  },
  {
   "cell_type": "markdown",
   "id": "e49bc750",
   "metadata": {},
   "source": [
    "Dane age mają rozład bliski jednostajnemu na przedziale od 18 do 64, średni wiek wynosi 39 lat"
   ]
  },
  {
   "cell_type": "code",
   "execution_count": 483,
   "id": "2448b401",
   "metadata": {},
   "outputs": [
    {
     "name": "stderr",
     "output_type": "stream",
     "text": [
      "`stat_bin()` using `bins = 30`. Pick better value with `binwidth`.\n"
     ]
    },
    {
     "data": {
      "text/html": [
       "30.6633968609865"
      ],
      "text/latex": [
       "30.6633968609865"
      ],
      "text/markdown": [
       "30.6633968609865"
      ],
      "text/plain": [
       "[1] 30.6634"
      ]
     },
     "metadata": {},
     "output_type": "display_data"
    },
    {
     "data": {
      "text/html": [
       "37.1878836097732"
      ],
      "text/latex": [
       "37.1878836097732"
      ],
      "text/markdown": [
       "37.1878836097732"
      ],
      "text/plain": [
       "[1] 37.18788"
      ]
     },
     "metadata": {},
     "output_type": "display_data"
    },
    {
     "data": {
      "text/html": [
       "6.09818691167901"
      ],
      "text/latex": [
       "6.09818691167901"
      ],
      "text/markdown": [
       "6.09818691167901"
      ],
      "text/plain": [
       "[1] 6.098187"
      ]
     },
     "metadata": {},
     "output_type": "display_data"
    },
    {
     "data": {
      "text/html": [
       "15.96"
      ],
      "text/latex": [
       "15.96"
      ],
      "text/markdown": [
       "15.96"
      ],
      "text/plain": [
       "[1] 15.96"
      ]
     },
     "metadata": {},
     "output_type": "display_data"
    },
    {
     "data": {
      "text/html": [
       "53.13"
      ],
      "text/latex": [
       "53.13"
      ],
      "text/markdown": [
       "53.13"
      ],
      "text/plain": [
       "[1] 53.13"
      ]
     },
     "metadata": {},
     "output_type": "display_data"
    },
    {
     "data": {
      "image/png": "[encoded data removed]",
      "text/plain": [
       "plot without title"
      ]
     },
     "metadata": {},
     "output_type": "display_data"
    }
   ],
   "source": [
    "histogram = ggplot(data, aes(bmi)) + \n",
    "  geom_histogram(color=\"black\", fill=\"white\") + ggtitle(\"Histogram dla danych bmi\")\n",
    "histogram\n",
    "mean(data$bmi); var(data$bmi); sd(data$bmi); min(data$bmi); max(data$bmi)"
   ]
  },
  {
   "cell_type": "code",
   "execution_count": 486,
   "id": "949645b8",
   "metadata": {},
   "outputs": [
    {
     "data": {
      "text/html": [
       "0.464646464646465"
      ],
      "text/latex": [
       "0.464646464646465"
      ],
      "text/markdown": [
       "0.464646464646465"
      ],
      "text/plain": [
       "[1] 0.4646465"
      ]
     },
     "metadata": {},
     "output_type": "display_data"
    },
    {
     "data": {
      "text/plain": [
       "\n",
       "\tShapiro-Wilk normality test\n",
       "\n",
       "data:  bmi_transformed\n",
       "W = 0.99858, p-value = 0.3492\n"
      ]
     },
     "metadata": {},
     "output_type": "display_data"
    },
    {
     "name": "stderr",
     "output_type": "stream",
     "text": [
      "`stat_bin()` using `bins = 30`. Pick better value with `binwidth`.\n"
     ]
    },
    {
     "data": {
      "image/png": "[encoded data removed]",
      "text/plain": [
       "plot without title"
      ]
     },
     "metadata": {},
     "output_type": "display_data"
    },
    {
     "data": {
      "image/png": "[encoded data removed]",
      "text/plain": [
       "plot without title"
      ]
     },
     "metadata": {},
     "output_type": "display_data"
    }
   ],
   "source": [
    "x=data$bmi\n",
    "library(MASS)\n",
    "b=boxcox(lm(x ~ 1))\n",
    "lambda <- b$x[which.max(b$y)]\n",
    "lambda\n",
    "bmi_transformed <- (x ^ lambda - 1) / lambda\n",
    "shapiro.test(bmi_transformed)\n",
    "histogram = ggplot(data, aes(bmi_transformed)) + \n",
    "  geom_histogram(color=\"black\", fill=\"white\") + ggtitle(\"Histogram dla danych bmi po transformacji box-cox\")\n",
    "histogram"
   ]
  },
  {
   "cell_type": "markdown",
   "id": "56f094ae",
   "metadata": {},
   "source": [
    "Tylko w przypadku danych bmi udało się transformować dane tak, aby miały rozkład normalny"
   ]
  },
  {
   "cell_type": "code",
   "execution_count": 484,
   "id": "af108585",
   "metadata": {},
   "outputs": [
    {
     "name": "stderr",
     "output_type": "stream",
     "text": [
      "`stat_bin()` using `bins = 30`. Pick better value with `binwidth`.\n"
     ]
    },
    {
     "data": {
      "text/html": [
       "1.0949177877429"
      ],
      "text/latex": [
       "1.0949177877429"
      ],
      "text/markdown": [
       "1.0949177877429"
      ],
      "text/plain": [
       "[1] 1.094918"
      ]
     },
     "metadata": {},
     "output_type": "display_data"
    },
    {
     "data": {
      "text/html": [
       "1.4532127456669"
      ],
      "text/latex": [
       "1.4532127456669"
      ],
      "text/markdown": [
       "1.4532127456669"
      ],
      "text/plain": [
       "[1] 1.453213"
      ]
     },
     "metadata": {},
     "output_type": "display_data"
    },
    {
     "data": {
      "text/html": [
       "1.20549273978191"
      ],
      "text/latex": [
       "1.20549273978191"
      ],
      "text/markdown": [
       "1.20549273978191"
      ],
      "text/plain": [
       "[1] 1.205493"
      ]
     },
     "metadata": {},
     "output_type": "display_data"
    },
    {
     "data": {
      "text/html": [
       "0"
      ],
      "text/latex": [
       "0"
      ],
      "text/markdown": [
       "0"
      ],
      "text/plain": [
       "[1] 0"
      ]
     },
     "metadata": {},
     "output_type": "display_data"
    },
    {
     "data": {
      "text/html": [
       "5"
      ],
      "text/latex": [
       "5"
      ],
      "text/markdown": [
       "5"
      ],
      "text/plain": [
       "[1] 5"
      ]
     },
     "metadata": {},
     "output_type": "display_data"
    },
    {
     "data": {
      "image/png": "[encoded data removed]",
      "text/plain": [
       "plot without title"
      ]
     },
     "metadata": {},
     "output_type": "display_data"
    }
   ],
   "source": [
    "histogram = ggplot(data, aes(children)) + \n",
    "  geom_histogram(color=\"black\", fill=\"white\") + ggtitle(\"Histogram dla danych children\")\n",
    "histogram\n",
    "mean(data$children); var(data$children); sd(data$children); min(data$children); max(data$children)"
   ]
  },
  {
   "cell_type": "markdown",
   "id": "0f74234c",
   "metadata": {},
   "source": [
    "Dane children też mogą mieć rozkład wykładniczy"
   ]
  },
  {
   "cell_type": "code",
   "execution_count": 513,
   "id": "f524a799",
   "metadata": {},
   "outputs": [
    {
     "name": "stderr",
     "output_type": "stream",
     "text": [
      "Warning message:\n",
      "\"package 'cowplot' is in use and will not be installed\"Warning message:\n",
      "\"Graphs cannot be vertically aligned unless the axis parameter is set. Placing graphs unaligned.\""
     ]
    },
    {
     "data": {
      "image/png": "[encoded data removed]",
      "text/plain": [
       "plot without title"
      ]
     },
     "metadata": {},
     "output_type": "display_data"
    }
   ],
   "source": [
    "install.packages('cowplot')\n",
    "library('cowplot')\n",
    "age.v.charges <- ggplot(data=data, aes(age, charges, color=sex)) +\n",
    "  geom_point(size=2.5, alpha=0.7) +\n",
    "  ggtitle(sprintf(\"r = %.4f\", cor(data$age, data$charges))) +\n",
    "  theme(legend.position = \"none\")\n",
    "\n",
    "children.v.charges <- ggplot(data=data, aes(children, charges, color=sex)) +\n",
    "  geom_point(size=2.5, alpha=0.7) +\n",
    "  ggtitle(sprintf(\"r = %.4f\", cor(data$children, data$charges))) +\n",
    "  theme(legend.position = \"none\")\n",
    "\n",
    "charges.v.bmi <- ggplot(data=data, aes(bmi, charges, color=sex)) +\n",
    "  geom_point(size=2.5, alpha=0.7) +\n",
    "  ggtitle(sprintf(\"r = %.4f\", cor(data$bmi, data$charges)))\n",
    "\n",
    "age.v.log_charges <- ggplot(data=data, aes(age, log(charges), color=sex)) +\n",
    "  geom_point(size=2.5, alpha=0.7) +\n",
    "  ggtitle(sprintf(\"r = %.4f\", cor(data$age, log(data$charges)))) +\n",
    "  theme(legend.position = \"none\")\n",
    "\n",
    "children.v.log_charges <- ggplot(data=data, aes(children, log(charges), color=sex)) +\n",
    "  geom_point(size=2.5, alpha=0.7) +\n",
    "  ggtitle(sprintf(\"r = %.4f\", cor(data$children, log(data$charges)))) +\n",
    "  theme(legend.position = \"none\")\n",
    "\n",
    "log_charges.v.bmi <- ggplot(data=data, aes(bmi, log(charges), color=sex)) +\n",
    "  geom_point(size=2.5, alpha=0.7) +\n",
    "  ggtitle(sprintf(\"r = %.4f\", cor(data$bmi, log(data$charges))))\n",
    "\n",
    "log_charges.v.transformed_bmi <- ggplot(data=data, aes(bmi_transformed, log(charges), color=sex)) +\n",
    "  geom_point(size=2.5, alpha=0.7) +\n",
    "  ggtitle(sprintf(\"r = %.4f\", cor(bmi_transformed, log(data$charges))))\n",
    "\n",
    "charges.v.transformed_bmi <- ggplot(data=data, aes(bmi_transformed, charges, color=sex)) +\n",
    "  geom_point(size=2.5, alpha=0.7) +\n",
    "  ggtitle(sprintf(\"r = %.4f\", cor(bmi_transformed, data$charges)))\n",
    "\n",
    "\n",
    "plot_grid(age.v.charges, age.v.log_charges, children.v.charges, children.v.log_charges, align=\"hv\",\n",
    "          charges.v.bmi, log_charges.v.bmi, log_charges.v.transformed_bmi, charges.v.transformed_bmi, labels=\"auto\", ncol=3)"
   ]
  },
  {
   "cell_type": "markdown",
   "id": "0718f69c",
   "metadata": {},
   "source": [
    "Z analizy danych wynika, że pochodzą z różnych rozkładów, dane charges mają wartości dużo wartości eksptemalnych, i daltego nie udało się je stranformować tak, aby miały rozkład normalny, lecz wizualnie po tranformacji logarytmicznej rozkład danych jest bardziej podobny do rozkładu normalnego. W przypadku korelacji istnieje większa korelacji jeżeli używa się dane log(charges) w korelacji z danymi age i children, w przypadku danych bmi przy użyciu log(charges) korelacja maleje. Podczas budowania modelu zrobię model liniowy dla stranformowanych danych charges i tez rozkład gamma dla danych charges nietranformowanych i porównam, który model jest lepszy."
   ]
  },
  {
   "cell_type": "code",
   "execution_count": 456,
   "id": "fa020427",
   "metadata": {},
   "outputs": [
    {
     "data": {
      "text/plain": [
       "\n",
       "Call:\n",
       "lm(formula = log(data$charges) ~ ., data = data)\n",
       "\n",
       "Residuals:\n",
       "     Min       1Q   Median       3Q      Max \n",
       "-1.07186 -0.19835 -0.04917  0.06598  2.16636 \n",
       "\n",
       "Coefficients:\n",
       "                  Estimate Std. Error t value Pr(>|t|)    \n",
       "(Intercept)      7.0305581  0.0723960  97.112  < 2e-16 ***\n",
       "age              0.0345816  0.0008721  39.655  < 2e-16 ***\n",
       "sexmale         -0.0754164  0.0244012  -3.091 0.002038 ** \n",
       "bmi              0.0133748  0.0020960   6.381 2.42e-10 ***\n",
       "children         0.1018568  0.0100995  10.085  < 2e-16 ***\n",
       "smokeryes        1.5543228  0.0302795  51.333  < 2e-16 ***\n",
       "regionnorthwest -0.0637876  0.0349057  -1.827 0.067860 .  \n",
       "regionsoutheast -0.1571967  0.0350828  -4.481 8.08e-06 ***\n",
       "regionsouthwest -0.1289522  0.0350271  -3.681 0.000241 ***\n",
       "---\n",
       "Signif. codes:  0 '***' 0.001 '**' 0.01 '*' 0.05 '.' 0.1 ' ' 1\n",
       "\n",
       "Residual standard error: 0.4443 on 1329 degrees of freedom\n",
       "Multiple R-squared:  0.7679,\tAdjusted R-squared:  0.7666 \n",
       "F-statistic: 549.8 on 8 and 1329 DF,  p-value: < 2.2e-16\n"
      ]
     },
     "metadata": {},
     "output_type": "display_data"
    },
    {
     "data": {
      "image/png": "[encoded data removed]",
      "text/plain": [
       "Plot with title \"\""
      ]
     },
     "metadata": {},
     "output_type": "display_data"
    }
   ],
   "source": [
    "options(repr.plot.width=10, repr.plot.height=5)\n",
    "liniowy=lm(formula = log(data$charges)~., data=data)\n",
    "summary(liniowy)\n",
    "options(repr.plot.width=10, repr.plot.height=5)\n",
    "par(mfrow = c(2, 2));\n",
    "plot(liniowy)"
   ]
  },
  {
   "cell_type": "markdown",
   "id": "a3ec28f9",
   "metadata": {},
   "source": [
    "Ponieważ moje dane nie mają rozkłądu normalnego, nie mogę zastosować ANOVY do analizy interakcji, stosuję model bez interakcji."
   ]
  },
  {
   "cell_type": "code",
   "execution_count": 522,
   "id": "3e0e3fb1",
   "metadata": {
    "scrolled": false
   },
   "outputs": [
    {
     "data": {
      "text/plain": [
       "                    Df Sum Sq Mean Sq F value  Pr(>F)    \n",
       "data$age             1  315.0  314.96 520.047 < 2e-16 ***\n",
       "data$bmi             1    6.4    6.43  10.624 0.00114 ** \n",
       "data$age:data$bmi    1    1.2    1.16   1.915 0.16662    \n",
       "Residuals         1334  807.9    0.61                    \n",
       "---\n",
       "Signif. codes:  0 '***' 0.001 '**' 0.01 '*' 0.05 '.' 0.1 ' ' 1"
      ]
     },
     "metadata": {},
     "output_type": "display_data"
    },
    {
     "data": {
      "text/plain": [
       "                         Df Sum Sq Mean Sq F value  Pr(>F)    \n",
       "data$age                  1  315.0  314.96 532.119 < 2e-16 ***\n",
       "data$children             1   21.9   21.86  36.925 1.6e-09 ***\n",
       "data$age:data$children    1    4.1    4.07   6.871 0.00886 ** \n",
       "Residuals              1334  789.6    0.59                    \n",
       "---\n",
       "Signif. codes:  0 '***' 0.001 '**' 0.01 '*' 0.05 '.' 0.1 ' ' 1"
      ]
     },
     "metadata": {},
     "output_type": "display_data"
    },
    {
     "data": {
      "text/plain": [
       "                       Df Sum Sq Mean Sq F value Pr(>F)    \n",
       "data$age                1  315.0  314.96 517.626 <2e-16 ***\n",
       "data$region             3    4.0    1.35   2.215 0.0846 .  \n",
       "data$age:data$region    3    2.2    0.73   1.208 0.3055    \n",
       "Residuals            1330  809.3    0.61                   \n",
       "---\n",
       "Signif. codes:  0 '***' 0.001 '**' 0.01 '*' 0.05 '.' 0.1 ' ' 1"
      ]
     },
     "metadata": {},
     "output_type": "display_data"
    },
    {
     "data": {
      "text/plain": [
       "                       Df Sum Sq Mean Sq F value Pr(>F)    \n",
       "data$age                1  315.0   315.0  1666.9 <2e-16 ***\n",
       "data$smoker             1  521.1   521.1  2757.8 <2e-16 ***\n",
       "data$age:data$smoker    1   42.4    42.4   224.3 <2e-16 ***\n",
       "Residuals            1334  252.1     0.2                   \n",
       "---\n",
       "Signif. codes:  0 '***' 0.001 '**' 0.01 '*' 0.05 '.' 0.1 ' ' 1"
      ]
     },
     "metadata": {},
     "output_type": "display_data"
    },
    {
     "data": {
      "text/plain": [
       "                    Df Sum Sq Mean Sq F value Pr(>F)    \n",
       "data$age             1  315.0  314.96 515.661 <2e-16 ***\n",
       "data$sex             1    0.3    0.31   0.513  0.474    \n",
       "data$age:data$sex    1    0.4    0.41   0.669  0.414    \n",
       "Residuals         1334  814.8    0.61                   \n",
       "---\n",
       "Signif. codes:  0 '***' 0.001 '**' 0.01 '*' 0.05 '.' 0.1 ' ' 1"
      ]
     },
     "metadata": {},
     "output_type": "display_data"
    },
    {
     "data": {
      "text/plain": [
       "                         Df Sum Sq Mean Sq F value   Pr(>F)    \n",
       "data$bmi                  1   19.9  19.898  24.538 8.22e-07 ***\n",
       "data$children             1   28.8  28.816  35.536 3.20e-09 ***\n",
       "data$bmi:data$children    1    0.0   0.010   0.013     0.91    \n",
       "Residuals              1334 1081.7   0.811                     \n",
       "---\n",
       "Signif. codes:  0 '***' 0.001 '**' 0.01 '*' 0.05 '.' 0.1 ' ' 1"
      ]
     },
     "metadata": {},
     "output_type": "display_data"
    },
    {
     "data": {
      "text/plain": [
       "                       Df Sum Sq Mean Sq F value   Pr(>F)    \n",
       "data$bmi                1   19.9  19.898  24.055 1.05e-06 ***\n",
       "data$region             3    5.1   1.706   2.063   0.1034    \n",
       "data$bmi:data$region    3    5.3   1.770   2.139   0.0935 .  \n",
       "Residuals            1330 1100.1   0.827                     \n",
       "---\n",
       "Signif. codes:  0 '***' 0.001 '**' 0.01 '*' 0.05 '.' 0.1 ' ' 1"
      ]
     },
     "metadata": {},
     "output_type": "display_data"
    },
    {
     "data": {
      "text/plain": [
       "                       Df Sum Sq Mean Sq F value   Pr(>F)    \n",
       "data$bmi                1   19.9    19.9   44.37 3.96e-11 ***\n",
       "data$smoker             1  499.9   499.9 1114.83  < 2e-16 ***\n",
       "data$bmi:data$smoker    1   12.4    12.4   27.66 1.68e-07 ***\n",
       "Residuals            1334  598.2     0.4                     \n",
       "---\n",
       "Signif. codes:  0 '***' 0.001 '**' 0.01 '*' 0.05 '.' 0.1 ' ' 1"
      ]
     },
     "metadata": {},
     "output_type": "display_data"
    },
    {
     "data": {
      "text/plain": [
       "                    Df Sum Sq Mean Sq F value  Pr(>F)    \n",
       "data$bmi             1   19.9   19.90  23.968 1.1e-06 ***\n",
       "data$sex             1    0.0    0.00   0.000  0.9847    \n",
       "data$bmi:data$sex    1    3.1    3.11   3.746  0.0532 .  \n",
       "Residuals         1334 1107.5    0.83                    \n",
       "---\n",
       "Signif. codes:  0 '***' 0.001 '**' 0.01 '*' 0.05 '.' 0.1 ' ' 1"
      ]
     },
     "metadata": {},
     "output_type": "display_data"
    },
    {
     "data": {
      "text/plain": [
       "                            Df Sum Sq Mean Sq F value   Pr(>F)    \n",
       "data$children                1   29.4  29.426  35.756 2.87e-09 ***\n",
       "data$region                  3    4.3   1.450   1.762    0.153    \n",
       "data$children:data$region    3    2.2   0.726   0.883    0.449    \n",
       "Residuals                 1330 1094.5   0.823                     \n",
       "---\n",
       "Signif. codes:  0 '***' 0.001 '**' 0.01 '*' 0.05 '.' 0.1 ' ' 1"
      ]
     },
     "metadata": {},
     "output_type": "display_data"
    },
    {
     "data": {
      "text/plain": [
       "                            Df Sum Sq Mean Sq F value   Pr(>F)    \n",
       "data$children                1   29.4    29.4   65.73 1.16e-15 ***\n",
       "data$smoker                  1  498.9   498.9 1114.38  < 2e-16 ***\n",
       "data$children:data$smoker    1    5.0     5.0   11.23 0.000826 ***\n",
       "Residuals                 1334  597.2     0.4                     \n",
       "---\n",
       "Signif. codes:  0 '***' 0.001 '**' 0.01 '*' 0.05 '.' 0.1 ' ' 1"
      ]
     },
     "metadata": {},
     "output_type": "display_data"
    },
    {
     "data": {
      "text/plain": [
       "                         Df Sum Sq Mean Sq F value   Pr(>F)    \n",
       "data$children             1   29.4  29.426  35.654 3.02e-09 ***\n",
       "data$sex                  1    0.0   0.009   0.011    0.916    \n",
       "data$children:data$sex    1    0.1   0.066   0.080    0.778    \n",
       "Residuals              1334 1101.0   0.825                     \n",
       "---\n",
       "Signif. codes:  0 '***' 0.001 '**' 0.01 '*' 0.05 '.' 0.1 ' ' 1"
      ]
     },
     "metadata": {},
     "output_type": "display_data"
    },
    {
     "data": {
      "text/plain": [
       "                       Df Sum Sq Mean Sq  F value Pr(>F)    \n",
       "data$smoker             1  500.7   500.7 1068.539 <2e-16 ***\n",
       "data$sex                1    2.3     2.3    4.929 0.0266 *  \n",
       "data$smoker:data$sex    1    2.4     2.4    5.140 0.0235 *  \n",
       "Residuals            1334  625.1     0.5                    \n",
       "---\n",
       "Signif. codes:  0 '***' 0.001 '**' 0.01 '*' 0.05 '.' 0.1 ' ' 1"
      ]
     },
     "metadata": {},
     "output_type": "display_data"
    },
    {
     "data": {
      "text/plain": [
       "                          Df Sum Sq Mean Sq  F value Pr(>F)    \n",
       "data$smoker                1  500.7   500.7 1069.690 <2e-16 ***\n",
       "data$region                3    2.5     0.8    1.764  0.152    \n",
       "data$smoker:data$region    3    4.8     1.6    3.408  0.017 *  \n",
       "Residuals               1330  622.5     0.5                    \n",
       "---\n",
       "Signif. codes:  0 '***' 0.001 '**' 0.01 '*' 0.05 '.' 0.1 ' ' 1"
      ]
     },
     "metadata": {},
     "output_type": "display_data"
    }
   ],
   "source": [
    "summary(aov(log(data$charges) ~ data$age * data$bmi, data = data))\n",
    "summary(aov(log(data$charges) ~ data$age * data$children, data = data))\n",
    "summary(aov(log(data$charges) ~ data$age * data$region, data = data))\n",
    "summary(aov(log(data$charges) ~ data$age * data$smoker, data = data))\n",
    "summary(aov(log(data$charges) ~ data$age * data$sex, data = data))\n",
    "\n",
    "summary(aov(log(data$charges) ~ data$bmi * data$children, data = data))\n",
    "summary(aov(log(data$charges) ~ data$bmi * data$region, data = data))\n",
    "summary(aov(log(data$charges) ~ data$bmi * data$smoker, data = data))\n",
    "summary(aov(log(data$charges) ~ data$bmi * data$sex, data = data))\n",
    "\n",
    "summary(aov(log(data$charges) ~ data$children * data$region, data = data))\n",
    "summary(aov(log(data$charges) ~ data$children * data$smoker, data = data))\n",
    "summary(aov(log(data$charges) ~ data$children * data$sex, data = data))\n",
    "\n",
    "summary(aov(log(data$charges) ~ data$smoker * data$sex, data = data))\n",
    "summary(aov(log(data$charges) ~ data$smoker * data$region, data = data))"
   ]
  },
  {
   "cell_type": "markdown",
   "id": "b1c83dd9",
   "metadata": {},
   "source": [
    "Zrobiono analizę interakcji dla par danych za pomocą ANOVA, dane charges nie mają rozkładu normalnego, ale reszty są zbliżone do rozkładu normalnego, lecz znów przez nie spełnienie założania normalności test ANOVA może mieć mniejszą moc"
   ]
  },
  {
   "cell_type": "code",
   "execution_count": 527,
   "id": "40cb74c2",
   "metadata": {},
   "outputs": [
    {
     "data": {
      "text/plain": [
       "\n",
       "Call:\n",
       "lm(formula = log(data$charges) ~ . + age * children + smoker * \n",
       "    region + smoker * sex + children * smoker + bmi * smoker + \n",
       "    age * smoker, data = data)\n",
       "\n",
       "Residuals:\n",
       "     Min       1Q   Median       3Q      Max \n",
       "-0.56735 -0.15875 -0.08223 -0.00662  2.43601 \n",
       "\n",
       "Coefficients:\n",
       "                            Estimate Std. Error t value Pr(>|t|)    \n",
       "(Intercept)                6.9948811  0.0722093  96.870  < 2e-16 ***\n",
       "age                        0.0445976  0.0009704  45.957  < 2e-16 ***\n",
       "sexmale                   -0.1092697  0.0231358  -4.723 2.57e-06 ***\n",
       "bmi                        0.0018270  0.0020124   0.908   0.3641    \n",
       "children                   0.2875961  0.0275189  10.451  < 2e-16 ***\n",
       "smokeryes                  1.3188880  0.1488254   8.862  < 2e-16 ***\n",
       "regionnorthwest           -0.0691396  0.0329161  -2.100   0.0359 *  \n",
       "regionsoutheast           -0.1589316  0.0338319  -4.698 2.91e-06 ***\n",
       "regionsouthwest           -0.1826014  0.0329900  -5.535 3.75e-08 ***\n",
       "age:children              -0.0040366  0.0006550  -6.163 9.46e-10 ***\n",
       "smokeryes:regionnorthwest  0.0616046  0.0753854   0.817   0.4140    \n",
       "smokeryes:regionsoutheast  0.0903476  0.0715983   1.262   0.2072    \n",
       "smokeryes:regionsouthwest  0.1732131  0.0759202   2.282   0.0227 *  \n",
       "sexmale:smokeryes          0.1043692  0.0523058   1.995   0.0462 *  \n",
       "children:smokeryes        -0.1254139  0.0220826  -5.679 1.66e-08 ***\n",
       "bmi:smokeryes              0.0482163  0.0043186  11.165  < 2e-16 ***\n",
       "age:smokeryes             -0.0321197  0.0018498 -17.364  < 2e-16 ***\n",
       "---\n",
       "Signif. codes:  0 '***' 0.001 '**' 0.01 '*' 0.05 '.' 0.1 ' ' 1\n",
       "\n",
       "Residual standard error: 0.3764 on 1321 degrees of freedom\n",
       "Multiple R-squared:  0.8344,\tAdjusted R-squared:  0.8324 \n",
       "F-statistic:   416 on 16 and 1321 DF,  p-value: < 2.2e-16\n"
      ]
     },
     "metadata": {},
     "output_type": "display_data"
    },
    {
     "data": {
      "image/png": "[encoded data removed]",
      "text/plain": [
       "Plot with title \"\""
      ]
     },
     "metadata": {},
     "output_type": "display_data"
    }
   ],
   "source": [
    "options(repr.plot.width=10, repr.plot.height=5)\n",
    "liniowy1=lm(formula = log(data$charges)~.+age*children+smoker*region+smoker*sex+children*smoker+bmi*smoker+age*smoker, data=data)\n",
    "summary(liniowy1)\n",
    "options(repr.plot.width=10, repr.plot.height=5)\n",
    "par(mfrow = c(2, 2));\n",
    "plot(liniowy1)"
   ]
  },
  {
   "cell_type": "code",
   "execution_count": 531,
   "id": "3d02004f",
   "metadata": {},
   "outputs": [
    {
     "data": {
      "text/html": [
       "1637.03339852665"
      ],
      "text/latex": [
       "1637.03339852665"
      ],
      "text/markdown": [
       "1637.03339852665"
      ],
      "text/plain": [
       "[1] 1637.033"
      ]
     },
     "metadata": {},
     "output_type": "display_data"
    },
    {
     "data": {
      "text/html": [
       "1201.5606253365"
      ],
      "text/latex": [
       "1201.5606253365"
      ],
      "text/markdown": [
       "1201.5606253365"
      ],
      "text/plain": [
       "[1] 1201.561"
      ]
     },
     "metadata": {},
     "output_type": "display_data"
    },
    {
     "data": {
      "text/html": [
       "<table>\n",
       "<thead><tr><th scope=col>Res.Df</th><th scope=col>RSS</th><th scope=col>Df</th><th scope=col>Sum of Sq</th><th scope=col>F</th><th scope=col>Pr(&gt;F)</th></tr></thead>\n",
       "<tbody>\n",
       "\t<tr><td>1329        </td><td>262.3290    </td><td>NA          </td><td>      NA    </td><td>      NA    </td><td>          NA</td></tr>\n",
       "\t<tr><td>1321        </td><td>187.1997    </td><td> 8          </td><td>75.12931    </td><td>66.27004    </td><td>1.865283e-91</td></tr>\n",
       "</tbody>\n",
       "</table>\n"
      ],
      "text/latex": [
       "\\begin{tabular}{r|llllll}\n",
       " Res.Df & RSS & Df & Sum of Sq & F & Pr(>F)\\\\\n",
       "\\hline\n",
       "\t 1329         & 262.3290     & NA           &       NA     &       NA     &           NA\\\\\n",
       "\t 1321         & 187.1997     &  8           & 75.12931     & 66.27004     & 1.865283e-91\\\\\n",
       "\\end{tabular}\n"
      ],
      "text/markdown": [
       "\n",
       "| Res.Df | RSS | Df | Sum of Sq | F | Pr(>F) |\n",
       "|---|---|---|---|---|---|\n",
       "| 1329         | 262.3290     | NA           |       NA     |       NA     |           NA |\n",
       "| 1321         | 187.1997     |  8           | 75.12931     | 66.27004     | 1.865283e-91 |\n",
       "\n"
      ],
      "text/plain": [
       "  Res.Df RSS      Df Sum of Sq F        Pr(>F)      \n",
       "1 1329   262.3290 NA       NA        NA           NA\n",
       "2 1321   187.1997  8 75.12931  66.27004 1.865283e-91"
      ]
     },
     "metadata": {},
     "output_type": "display_data"
    }
   ],
   "source": [
    "AIC(liniowy)\n",
    "AIC(liniowy1)\n",
    "anova(liniowy, liniowy1)"
   ]
  },
  {
   "cell_type": "markdown",
   "id": "113d6faa",
   "metadata": {},
   "source": [
    "Za pomocą uwzględnienia analizy interakcji udało się polepszyć model, modele bez interakcji i z interakcją są istotnie różne. Teraz sprawdzimy, czy model zawiera dane odstajające i wpływowe:"
   ]
  },
  {
   "cell_type": "code",
   "execution_count": 532,
   "id": "70e4d779",
   "metadata": {},
   "outputs": [],
   "source": [
    "influences <- influence.measures(liniowy)\n",
    "wplywowe=which(apply(influences$is.inf, 1, any))\n"
   ]
  },
  {
   "cell_type": "code",
   "execution_count": 534,
   "id": "812f5c6c",
   "metadata": {},
   "outputs": [
    {
     "data": {
      "text/html": [
       "<table>\n",
       "<thead><tr><th></th><th scope=col>age</th><th scope=col>sex</th><th scope=col>bmi</th><th scope=col>children</th><th scope=col>smoker</th><th scope=col>region</th><th scope=col>charges</th></tr></thead>\n",
       "<tbody>\n",
       "\t<tr><th scope=row>1</th><td>19       </td><td>female   </td><td>27.900   </td><td>0        </td><td>yes      </td><td>southwest</td><td>16884.924</td></tr>\n",
       "\t<tr><th scope=row>2</th><td>18       </td><td>male     </td><td>33.770   </td><td>1        </td><td>no       </td><td>southeast</td><td> 1725.552</td></tr>\n",
       "\t<tr><th scope=row>3</th><td>28       </td><td>male     </td><td>33.000   </td><td>3        </td><td>no       </td><td>southeast</td><td> 4449.462</td></tr>\n",
       "\t<tr><th scope=row>4</th><td>33       </td><td>male     </td><td>22.705   </td><td>0        </td><td>no       </td><td>northwest</td><td>21984.471</td></tr>\n",
       "\t<tr><th scope=row>5</th><td>32       </td><td>male     </td><td>28.880   </td><td>0        </td><td>no       </td><td>northwest</td><td> 3866.855</td></tr>\n",
       "\t<tr><th scope=row>6</th><td>31       </td><td>female   </td><td>25.740   </td><td>0        </td><td>no       </td><td>southeast</td><td> 3756.622</td></tr>\n",
       "\t<tr><th scope=row>7</th><td>46       </td><td>female   </td><td>33.440   </td><td>1        </td><td>no       </td><td>southeast</td><td> 8240.590</td></tr>\n",
       "\t<tr><th scope=row>8</th><td>37       </td><td>female   </td><td>27.740   </td><td>3        </td><td>no       </td><td>northwest</td><td> 7281.506</td></tr>\n",
       "\t<tr><th scope=row>9</th><td>37       </td><td>male     </td><td>29.830   </td><td>2        </td><td>no       </td><td>northeast</td><td> 6406.411</td></tr>\n",
       "\t<tr><th scope=row>11</th><td>25       </td><td>male     </td><td>26.220   </td><td>0        </td><td>no       </td><td>northeast</td><td> 2721.321</td></tr>\n",
       "\t<tr><th scope=row>12</th><td>62       </td><td>female   </td><td>26.290   </td><td>0        </td><td>yes      </td><td>southeast</td><td>27808.725</td></tr>\n",
       "\t<tr><th scope=row>13</th><td>23       </td><td>male     </td><td>34.400   </td><td>0        </td><td>no       </td><td>southwest</td><td> 1826.843</td></tr>\n",
       "\t<tr><th scope=row>14</th><td>56       </td><td>female   </td><td>39.820   </td><td>0        </td><td>no       </td><td>southeast</td><td>11090.718</td></tr>\n",
       "\t<tr><th scope=row>15</th><td>27       </td><td>male     </td><td>42.130   </td><td>0        </td><td>yes      </td><td>southeast</td><td>39611.758</td></tr>\n",
       "\t<tr><th scope=row>16</th><td>19       </td><td>male     </td><td>24.600   </td><td>1        </td><td>no       </td><td>southwest</td><td> 1837.237</td></tr>\n",
       "\t<tr><th scope=row>17</th><td>52       </td><td>female   </td><td>30.780   </td><td>1        </td><td>no       </td><td>northeast</td><td>10797.336</td></tr>\n",
       "\t<tr><th scope=row>18</th><td>23       </td><td>male     </td><td>23.845   </td><td>0        </td><td>no       </td><td>northeast</td><td> 2395.172</td></tr>\n",
       "\t<tr><th scope=row>19</th><td>56       </td><td>male     </td><td>40.300   </td><td>0        </td><td>no       </td><td>southwest</td><td>10602.385</td></tr>\n",
       "\t<tr><th scope=row>20</th><td>30       </td><td>male     </td><td>35.300   </td><td>0        </td><td>yes      </td><td>southwest</td><td>36837.467</td></tr>\n",
       "\t<tr><th scope=row>21</th><td>60       </td><td>female   </td><td>36.005   </td><td>0        </td><td>no       </td><td>northeast</td><td>13228.847</td></tr>\n",
       "\t<tr><th scope=row>22</th><td>30       </td><td>female   </td><td>32.400   </td><td>1        </td><td>no       </td><td>southwest</td><td> 4149.736</td></tr>\n",
       "\t<tr><th scope=row>23</th><td>18       </td><td>male     </td><td>34.100   </td><td>0        </td><td>no       </td><td>southeast</td><td> 1137.011</td></tr>\n",
       "\t<tr><th scope=row>24</th><td>34       </td><td>female   </td><td>31.920   </td><td>1        </td><td>yes      </td><td>northeast</td><td>37701.877</td></tr>\n",
       "\t<tr><th scope=row>25</th><td>37       </td><td>male     </td><td>28.025   </td><td>2        </td><td>no       </td><td>northwest</td><td> 6203.902</td></tr>\n",
       "\t<tr><th scope=row>26</th><td>59       </td><td>female   </td><td>27.720   </td><td>3        </td><td>no       </td><td>southeast</td><td>14001.134</td></tr>\n",
       "\t<tr><th scope=row>27</th><td>63       </td><td>female   </td><td>23.085   </td><td>0        </td><td>no       </td><td>northeast</td><td>14451.835</td></tr>\n",
       "\t<tr><th scope=row>28</th><td>55       </td><td>female   </td><td>32.775   </td><td>2        </td><td>no       </td><td>northwest</td><td>12268.632</td></tr>\n",
       "\t<tr><th scope=row>29</th><td>23       </td><td>male     </td><td>17.385   </td><td>1        </td><td>no       </td><td>northwest</td><td> 2775.192</td></tr>\n",
       "\t<tr><th scope=row>30</th><td>31       </td><td>male     </td><td>36.300   </td><td>2        </td><td>yes      </td><td>southwest</td><td>38711.000</td></tr>\n",
       "\t<tr><th scope=row>31</th><td>22       </td><td>male     </td><td>35.600   </td><td>0        </td><td>yes      </td><td>southwest</td><td>35585.576</td></tr>\n",
       "\t<tr><th scope=row>...</th><td>...</td><td>...</td><td>...</td><td>...</td><td>...</td><td>...</td><td>...</td></tr>\n",
       "\t<tr><th scope=row>1309</th><td>25       </td><td>female   </td><td>30.200   </td><td>0        </td><td>yes      </td><td>southwest</td><td>33900.653</td></tr>\n",
       "\t<tr><th scope=row>1310</th><td>41       </td><td>male     </td><td>32.200   </td><td>2        </td><td>no       </td><td>southwest</td><td> 6875.961</td></tr>\n",
       "\t<tr><th scope=row>1311</th><td>42       </td><td>male     </td><td>26.315   </td><td>1        </td><td>no       </td><td>northwest</td><td> 6940.910</td></tr>\n",
       "\t<tr><th scope=row>1312</th><td>33       </td><td>female   </td><td>26.695   </td><td>0        </td><td>no       </td><td>northwest</td><td> 4571.413</td></tr>\n",
       "\t<tr><th scope=row>1313</th><td>34       </td><td>male     </td><td>42.900   </td><td>1        </td><td>no       </td><td>southwest</td><td> 4536.259</td></tr>\n",
       "\t<tr><th scope=row>1314</th><td>19       </td><td>female   </td><td>34.700   </td><td>2        </td><td>yes      </td><td>southwest</td><td>36397.576</td></tr>\n",
       "\t<tr><th scope=row>1315</th><td>30       </td><td>female   </td><td>23.655   </td><td>3        </td><td>yes      </td><td>northwest</td><td>18765.875</td></tr>\n",
       "\t<tr><th scope=row>1316</th><td>18       </td><td>male     </td><td>28.310   </td><td>1        </td><td>no       </td><td>northeast</td><td>11272.331</td></tr>\n",
       "\t<tr><th scope=row>1317</th><td>19       </td><td>female   </td><td>20.600   </td><td>0        </td><td>no       </td><td>southwest</td><td> 1731.677</td></tr>\n",
       "\t<tr><th scope=row>1318</th><td>18       </td><td>male     </td><td>53.130   </td><td>0        </td><td>no       </td><td>southeast</td><td> 1163.463</td></tr>\n",
       "\t<tr><th scope=row>1319</th><td>35       </td><td>male     </td><td>39.710   </td><td>4        </td><td>no       </td><td>northeast</td><td>19496.719</td></tr>\n",
       "\t<tr><th scope=row>1320</th><td>39       </td><td>female   </td><td>26.315   </td><td>2        </td><td>no       </td><td>northwest</td><td> 7201.701</td></tr>\n",
       "\t<tr><th scope=row>1321</th><td>31       </td><td>male     </td><td>31.065   </td><td>3        </td><td>no       </td><td>northwest</td><td> 5425.023</td></tr>\n",
       "\t<tr><th scope=row>1322</th><td>62       </td><td>male     </td><td>26.695   </td><td>0        </td><td>yes      </td><td>northeast</td><td>28101.333</td></tr>\n",
       "\t<tr><th scope=row>1323</th><td>62       </td><td>male     </td><td>38.830   </td><td>0        </td><td>no       </td><td>southeast</td><td>12981.346</td></tr>\n",
       "\t<tr><th scope=row>1324</th><td>42       </td><td>female   </td><td>40.370   </td><td>2        </td><td>yes      </td><td>southeast</td><td>43896.376</td></tr>\n",
       "\t<tr><th scope=row>1325</th><td>31       </td><td>male     </td><td>25.935   </td><td>1        </td><td>no       </td><td>northwest</td><td> 4239.893</td></tr>\n",
       "\t<tr><th scope=row>1326</th><td>61       </td><td>male     </td><td>33.535   </td><td>0        </td><td>no       </td><td>northeast</td><td>13143.337</td></tr>\n",
       "\t<tr><th scope=row>1327</th><td>42       </td><td>female   </td><td>32.870   </td><td>0        </td><td>no       </td><td>northeast</td><td> 7050.021</td></tr>\n",
       "\t<tr><th scope=row>1328</th><td>51       </td><td>male     </td><td>30.030   </td><td>1        </td><td>no       </td><td>southeast</td><td> 9377.905</td></tr>\n",
       "\t<tr><th scope=row>1329</th><td>23       </td><td>female   </td><td>24.225   </td><td>2        </td><td>no       </td><td>northeast</td><td>22395.744</td></tr>\n",
       "\t<tr><th scope=row>1330</th><td>52       </td><td>male     </td><td>38.600   </td><td>2        </td><td>no       </td><td>southwest</td><td>10325.206</td></tr>\n",
       "\t<tr><th scope=row>1331</th><td>57       </td><td>female   </td><td>25.740   </td><td>2        </td><td>no       </td><td>southeast</td><td>12629.166</td></tr>\n",
       "\t<tr><th scope=row>1332</th><td>23       </td><td>female   </td><td>33.400   </td><td>0        </td><td>no       </td><td>southwest</td><td>10795.937</td></tr>\n",
       "\t<tr><th scope=row>1333</th><td>52       </td><td>female   </td><td>44.700   </td><td>3        </td><td>no       </td><td>southwest</td><td>11411.685</td></tr>\n",
       "\t<tr><th scope=row>1334</th><td>50       </td><td>male     </td><td>30.970   </td><td>3        </td><td>no       </td><td>northwest</td><td>10600.548</td></tr>\n",
       "\t<tr><th scope=row>1335</th><td>18       </td><td>female   </td><td>31.920   </td><td>0        </td><td>no       </td><td>northeast</td><td> 2205.981</td></tr>\n",
       "\t<tr><th scope=row>1336</th><td>18       </td><td>female   </td><td>36.850   </td><td>0        </td><td>no       </td><td>southeast</td><td> 1629.833</td></tr>\n",
       "\t<tr><th scope=row>1337</th><td>21       </td><td>female   </td><td>25.800   </td><td>0        </td><td>no       </td><td>southwest</td><td> 2007.945</td></tr>\n",
       "\t<tr><th scope=row>1338</th><td>61       </td><td>female   </td><td>29.070   </td><td>0        </td><td>yes      </td><td>northwest</td><td>29141.360</td></tr>\n",
       "</tbody>\n",
       "</table>\n"
      ],
      "text/latex": [
       "\\begin{tabular}{r|lllllll}\n",
       "  & age & sex & bmi & children & smoker & region & charges\\\\\n",
       "\\hline\n",
       "\t1 & 19        & female    & 27.900    & 0         & yes       & southwest & 16884.924\\\\\n",
       "\t2 & 18        & male      & 33.770    & 1         & no        & southeast &  1725.552\\\\\n",
       "\t3 & 28        & male      & 33.000    & 3         & no        & southeast &  4449.462\\\\\n",
       "\t4 & 33        & male      & 22.705    & 0         & no        & northwest & 21984.471\\\\\n",
       "\t5 & 32        & male      & 28.880    & 0         & no        & northwest &  3866.855\\\\\n",
       "\t6 & 31        & female    & 25.740    & 0         & no        & southeast &  3756.622\\\\\n",
       "\t7 & 46        & female    & 33.440    & 1         & no        & southeast &  8240.590\\\\\n",
       "\t8 & 37        & female    & 27.740    & 3         & no        & northwest &  7281.506\\\\\n",
       "\t9 & 37        & male      & 29.830    & 2         & no        & northeast &  6406.411\\\\\n",
       "\t11 & 25        & male      & 26.220    & 0         & no        & northeast &  2721.321\\\\\n",
       "\t12 & 62        & female    & 26.290    & 0         & yes       & southeast & 27808.725\\\\\n",
       "\t13 & 23        & male      & 34.400    & 0         & no        & southwest &  1826.843\\\\\n",
       "\t14 & 56        & female    & 39.820    & 0         & no        & southeast & 11090.718\\\\\n",
       "\t15 & 27        & male      & 42.130    & 0         & yes       & southeast & 39611.758\\\\\n",
       "\t16 & 19        & male      & 24.600    & 1         & no        & southwest &  1837.237\\\\\n",
       "\t17 & 52        & female    & 30.780    & 1         & no        & northeast & 10797.336\\\\\n",
       "\t18 & 23        & male      & 23.845    & 0         & no        & northeast &  2395.172\\\\\n",
       "\t19 & 56        & male      & 40.300    & 0         & no        & southwest & 10602.385\\\\\n",
       "\t20 & 30        & male      & 35.300    & 0         & yes       & southwest & 36837.467\\\\\n",
       "\t21 & 60        & female    & 36.005    & 0         & no        & northeast & 13228.847\\\\\n",
       "\t22 & 30        & female    & 32.400    & 1         & no        & southwest &  4149.736\\\\\n",
       "\t23 & 18        & male      & 34.100    & 0         & no        & southeast &  1137.011\\\\\n",
       "\t24 & 34        & female    & 31.920    & 1         & yes       & northeast & 37701.877\\\\\n",
       "\t25 & 37        & male      & 28.025    & 2         & no        & northwest &  6203.902\\\\\n",
       "\t26 & 59        & female    & 27.720    & 3         & no        & southeast & 14001.134\\\\\n",
       "\t27 & 63        & female    & 23.085    & 0         & no        & northeast & 14451.835\\\\\n",
       "\t28 & 55        & female    & 32.775    & 2         & no        & northwest & 12268.632\\\\\n",
       "\t29 & 23        & male      & 17.385    & 1         & no        & northwest &  2775.192\\\\\n",
       "\t30 & 31        & male      & 36.300    & 2         & yes       & southwest & 38711.000\\\\\n",
       "\t31 & 22        & male      & 35.600    & 0         & yes       & southwest & 35585.576\\\\\n",
       "\t... & ... & ... & ... & ... & ... & ... & ...\\\\\n",
       "\t1309 & 25        & female    & 30.200    & 0         & yes       & southwest & 33900.653\\\\\n",
       "\t1310 & 41        & male      & 32.200    & 2         & no        & southwest &  6875.961\\\\\n",
       "\t1311 & 42        & male      & 26.315    & 1         & no        & northwest &  6940.910\\\\\n",
       "\t1312 & 33        & female    & 26.695    & 0         & no        & northwest &  4571.413\\\\\n",
       "\t1313 & 34        & male      & 42.900    & 1         & no        & southwest &  4536.259\\\\\n",
       "\t1314 & 19        & female    & 34.700    & 2         & yes       & southwest & 36397.576\\\\\n",
       "\t1315 & 30        & female    & 23.655    & 3         & yes       & northwest & 18765.875\\\\\n",
       "\t1316 & 18        & male      & 28.310    & 1         & no        & northeast & 11272.331\\\\\n",
       "\t1317 & 19        & female    & 20.600    & 0         & no        & southwest &  1731.677\\\\\n",
       "\t1318 & 18        & male      & 53.130    & 0         & no        & southeast &  1163.463\\\\\n",
       "\t1319 & 35        & male      & 39.710    & 4         & no        & northeast & 19496.719\\\\\n",
       "\t1320 & 39        & female    & 26.315    & 2         & no        & northwest &  7201.701\\\\\n",
       "\t1321 & 31        & male      & 31.065    & 3         & no        & northwest &  5425.023\\\\\n",
       "\t1322 & 62        & male      & 26.695    & 0         & yes       & northeast & 28101.333\\\\\n",
       "\t1323 & 62        & male      & 38.830    & 0         & no        & southeast & 12981.346\\\\\n",
       "\t1324 & 42        & female    & 40.370    & 2         & yes       & southeast & 43896.376\\\\\n",
       "\t1325 & 31        & male      & 25.935    & 1         & no        & northwest &  4239.893\\\\\n",
       "\t1326 & 61        & male      & 33.535    & 0         & no        & northeast & 13143.337\\\\\n",
       "\t1327 & 42        & female    & 32.870    & 0         & no        & northeast &  7050.021\\\\\n",
       "\t1328 & 51        & male      & 30.030    & 1         & no        & southeast &  9377.905\\\\\n",
       "\t1329 & 23        & female    & 24.225    & 2         & no        & northeast & 22395.744\\\\\n",
       "\t1330 & 52        & male      & 38.600    & 2         & no        & southwest & 10325.206\\\\\n",
       "\t1331 & 57        & female    & 25.740    & 2         & no        & southeast & 12629.166\\\\\n",
       "\t1332 & 23        & female    & 33.400    & 0         & no        & southwest & 10795.937\\\\\n",
       "\t1333 & 52        & female    & 44.700    & 3         & no        & southwest & 11411.685\\\\\n",
       "\t1334 & 50        & male      & 30.970    & 3         & no        & northwest & 10600.548\\\\\n",
       "\t1335 & 18        & female    & 31.920    & 0         & no        & northeast &  2205.981\\\\\n",
       "\t1336 & 18        & female    & 36.850    & 0         & no        & southeast &  1629.833\\\\\n",
       "\t1337 & 21        & female    & 25.800    & 0         & no        & southwest &  2007.945\\\\\n",
       "\t1338 & 61        & female    & 29.070    & 0         & yes       & northwest & 29141.360\\\\\n",
       "\\end{tabular}\n"
      ],
      "text/markdown": [
       "\n",
       "| <!--/--> | age | sex | bmi | children | smoker | region | charges |\n",
       "|---|---|---|---|---|---|---|---|\n",
       "| 1 | 19        | female    | 27.900    | 0         | yes       | southwest | 16884.924 |\n",
       "| 2 | 18        | male      | 33.770    | 1         | no        | southeast |  1725.552 |\n",
       "| 3 | 28        | male      | 33.000    | 3         | no        | southeast |  4449.462 |\n",
       "| 4 | 33        | male      | 22.705    | 0         | no        | northwest | 21984.471 |\n",
       "| 5 | 32        | male      | 28.880    | 0         | no        | northwest |  3866.855 |\n",
       "| 6 | 31        | female    | 25.740    | 0         | no        | southeast |  3756.622 |\n",
       "| 7 | 46        | female    | 33.440    | 1         | no        | southeast |  8240.590 |\n",
       "| 8 | 37        | female    | 27.740    | 3         | no        | northwest |  7281.506 |\n",
       "| 9 | 37        | male      | 29.830    | 2         | no        | northeast |  6406.411 |\n",
       "| 11 | 25        | male      | 26.220    | 0         | no        | northeast |  2721.321 |\n",
       "| 12 | 62        | female    | 26.290    | 0         | yes       | southeast | 27808.725 |\n",
       "| 13 | 23        | male      | 34.400    | 0         | no        | southwest |  1826.843 |\n",
       "| 14 | 56        | female    | 39.820    | 0         | no        | southeast | 11090.718 |\n",
       "| 15 | 27        | male      | 42.130    | 0         | yes       | southeast | 39611.758 |\n",
       "| 16 | 19        | male      | 24.600    | 1         | no        | southwest |  1837.237 |\n",
       "| 17 | 52        | female    | 30.780    | 1         | no        | northeast | 10797.336 |\n",
       "| 18 | 23        | male      | 23.845    | 0         | no        | northeast |  2395.172 |\n",
       "| 19 | 56        | male      | 40.300    | 0         | no        | southwest | 10602.385 |\n",
       "| 20 | 30        | male      | 35.300    | 0         | yes       | southwest | 36837.467 |\n",
       "| 21 | 60        | female    | 36.005    | 0         | no        | northeast | 13228.847 |\n",
       "| 22 | 30        | female    | 32.400    | 1         | no        | southwest |  4149.736 |\n",
       "| 23 | 18        | male      | 34.100    | 0         | no        | southeast |  1137.011 |\n",
       "| 24 | 34        | female    | 31.920    | 1         | yes       | northeast | 37701.877 |\n",
       "| 25 | 37        | male      | 28.025    | 2         | no        | northwest |  6203.902 |\n",
       "| 26 | 59        | female    | 27.720    | 3         | no        | southeast | 14001.134 |\n",
       "| 27 | 63        | female    | 23.085    | 0         | no        | northeast | 14451.835 |\n",
       "| 28 | 55        | female    | 32.775    | 2         | no        | northwest | 12268.632 |\n",
       "| 29 | 23        | male      | 17.385    | 1         | no        | northwest |  2775.192 |\n",
       "| 30 | 31        | male      | 36.300    | 2         | yes       | southwest | 38711.000 |\n",
       "| 31 | 22        | male      | 35.600    | 0         | yes       | southwest | 35585.576 |\n",
       "| ... | ... | ... | ... | ... | ... | ... | ... |\n",
       "| 1309 | 25        | female    | 30.200    | 0         | yes       | southwest | 33900.653 |\n",
       "| 1310 | 41        | male      | 32.200    | 2         | no        | southwest |  6875.961 |\n",
       "| 1311 | 42        | male      | 26.315    | 1         | no        | northwest |  6940.910 |\n",
       "| 1312 | 33        | female    | 26.695    | 0         | no        | northwest |  4571.413 |\n",
       "| 1313 | 34        | male      | 42.900    | 1         | no        | southwest |  4536.259 |\n",
       "| 1314 | 19        | female    | 34.700    | 2         | yes       | southwest | 36397.576 |\n",
       "| 1315 | 30        | female    | 23.655    | 3         | yes       | northwest | 18765.875 |\n",
       "| 1316 | 18        | male      | 28.310    | 1         | no        | northeast | 11272.331 |\n",
       "| 1317 | 19        | female    | 20.600    | 0         | no        | southwest |  1731.677 |\n",
       "| 1318 | 18        | male      | 53.130    | 0         | no        | southeast |  1163.463 |\n",
       "| 1319 | 35        | male      | 39.710    | 4         | no        | northeast | 19496.719 |\n",
       "| 1320 | 39        | female    | 26.315    | 2         | no        | northwest |  7201.701 |\n",
       "| 1321 | 31        | male      | 31.065    | 3         | no        | northwest |  5425.023 |\n",
       "| 1322 | 62        | male      | 26.695    | 0         | yes       | northeast | 28101.333 |\n",
       "| 1323 | 62        | male      | 38.830    | 0         | no        | southeast | 12981.346 |\n",
       "| 1324 | 42        | female    | 40.370    | 2         | yes       | southeast | 43896.376 |\n",
       "| 1325 | 31        | male      | 25.935    | 1         | no        | northwest |  4239.893 |\n",
       "| 1326 | 61        | male      | 33.535    | 0         | no        | northeast | 13143.337 |\n",
       "| 1327 | 42        | female    | 32.870    | 0         | no        | northeast |  7050.021 |\n",
       "| 1328 | 51        | male      | 30.030    | 1         | no        | southeast |  9377.905 |\n",
       "| 1329 | 23        | female    | 24.225    | 2         | no        | northeast | 22395.744 |\n",
       "| 1330 | 52        | male      | 38.600    | 2         | no        | southwest | 10325.206 |\n",
       "| 1331 | 57        | female    | 25.740    | 2         | no        | southeast | 12629.166 |\n",
       "| 1332 | 23        | female    | 33.400    | 0         | no        | southwest | 10795.937 |\n",
       "| 1333 | 52        | female    | 44.700    | 3         | no        | southwest | 11411.685 |\n",
       "| 1334 | 50        | male      | 30.970    | 3         | no        | northwest | 10600.548 |\n",
       "| 1335 | 18        | female    | 31.920    | 0         | no        | northeast |  2205.981 |\n",
       "| 1336 | 18        | female    | 36.850    | 0         | no        | southeast |  1629.833 |\n",
       "| 1337 | 21        | female    | 25.800    | 0         | no        | southwest |  2007.945 |\n",
       "| 1338 | 61        | female    | 29.070    | 0         | yes       | northwest | 29141.360 |\n",
       "\n"
      ],
      "text/plain": [
       "     age sex    bmi    children smoker region    charges  \n",
       "1    19  female 27.900 0        yes    southwest 16884.924\n",
       "2    18  male   33.770 1        no     southeast  1725.552\n",
       "3    28  male   33.000 3        no     southeast  4449.462\n",
       "4    33  male   22.705 0        no     northwest 21984.471\n",
       "5    32  male   28.880 0        no     northwest  3866.855\n",
       "6    31  female 25.740 0        no     southeast  3756.622\n",
       "7    46  female 33.440 1        no     southeast  8240.590\n",
       "8    37  female 27.740 3        no     northwest  7281.506\n",
       "9    37  male   29.830 2        no     northeast  6406.411\n",
       "11   25  male   26.220 0        no     northeast  2721.321\n",
       "12   62  female 26.290 0        yes    southeast 27808.725\n",
       "13   23  male   34.400 0        no     southwest  1826.843\n",
       "14   56  female 39.820 0        no     southeast 11090.718\n",
       "15   27  male   42.130 0        yes    southeast 39611.758\n",
       "16   19  male   24.600 1        no     southwest  1837.237\n",
       "17   52  female 30.780 1        no     northeast 10797.336\n",
       "18   23  male   23.845 0        no     northeast  2395.172\n",
       "19   56  male   40.300 0        no     southwest 10602.385\n",
       "20   30  male   35.300 0        yes    southwest 36837.467\n",
       "21   60  female 36.005 0        no     northeast 13228.847\n",
       "22   30  female 32.400 1        no     southwest  4149.736\n",
       "23   18  male   34.100 0        no     southeast  1137.011\n",
       "24   34  female 31.920 1        yes    northeast 37701.877\n",
       "25   37  male   28.025 2        no     northwest  6203.902\n",
       "26   59  female 27.720 3        no     southeast 14001.134\n",
       "27   63  female 23.085 0        no     northeast 14451.835\n",
       "28   55  female 32.775 2        no     northwest 12268.632\n",
       "29   23  male   17.385 1        no     northwest  2775.192\n",
       "30   31  male   36.300 2        yes    southwest 38711.000\n",
       "31   22  male   35.600 0        yes    southwest 35585.576\n",
       "...  ... ...    ...    ...      ...    ...       ...      \n",
       "1309 25  female 30.200 0        yes    southwest 33900.653\n",
       "1310 41  male   32.200 2        no     southwest  6875.961\n",
       "1311 42  male   26.315 1        no     northwest  6940.910\n",
       "1312 33  female 26.695 0        no     northwest  4571.413\n",
       "1313 34  male   42.900 1        no     southwest  4536.259\n",
       "1314 19  female 34.700 2        yes    southwest 36397.576\n",
       "1315 30  female 23.655 3        yes    northwest 18765.875\n",
       "1316 18  male   28.310 1        no     northeast 11272.331\n",
       "1317 19  female 20.600 0        no     southwest  1731.677\n",
       "1318 18  male   53.130 0        no     southeast  1163.463\n",
       "1319 35  male   39.710 4        no     northeast 19496.719\n",
       "1320 39  female 26.315 2        no     northwest  7201.701\n",
       "1321 31  male   31.065 3        no     northwest  5425.023\n",
       "1322 62  male   26.695 0        yes    northeast 28101.333\n",
       "1323 62  male   38.830 0        no     southeast 12981.346\n",
       "1324 42  female 40.370 2        yes    southeast 43896.376\n",
       "1325 31  male   25.935 1        no     northwest  4239.893\n",
       "1326 61  male   33.535 0        no     northeast 13143.337\n",
       "1327 42  female 32.870 0        no     northeast  7050.021\n",
       "1328 51  male   30.030 1        no     southeast  9377.905\n",
       "1329 23  female 24.225 2        no     northeast 22395.744\n",
       "1330 52  male   38.600 2        no     southwest 10325.206\n",
       "1331 57  female 25.740 2        no     southeast 12629.166\n",
       "1332 23  female 33.400 0        no     southwest 10795.937\n",
       "1333 52  female 44.700 3        no     southwest 11411.685\n",
       "1334 50  male   30.970 3        no     northwest 10600.548\n",
       "1335 18  female 31.920 0        no     northeast  2205.981\n",
       "1336 18  female 36.850 0        no     southeast  1629.833\n",
       "1337 21  female 25.800 0        no     southwest  2007.945\n",
       "1338 61  female 29.070 0        yes    northwest 29141.360"
      ]
     },
     "metadata": {},
     "output_type": "display_data"
    },
    {
     "data": {
      "image/png": "[encoded data removed]",
      "text/plain": [
       "Plot with title \"Jacknife Residuals\""
      ]
     },
     "metadata": {},
     "output_type": "display_data"
    }
   ],
   "source": [
    "jack = rstudent(liniowy)\n",
    "plot(jack, ylab=\"Jacknife Residuals\", main=\"Jacknife Residuals\")\n",
    "outliers <- which(abs(jack) > 2)\n",
    "library(dplyr)\n",
    "outliers_nie_wplywowe=outliers[! outliers %in% c(wplywowe)]\n",
    "data_without_outliers <- data[-c(outliers_nie_wplywowe),]\n",
    "data_without_outliers\n"
   ]
  },
  {
   "cell_type": "code",
   "execution_count": 535,
   "id": "5c2312c1",
   "metadata": {},
   "outputs": [
    {
     "data": {
      "text/plain": [
       "\n",
       "Call:\n",
       "lm(formula = log(data_without_outliers$charges) ~ . + age * children + \n",
       "    smoker * region + smoker * sex + children * smoker + bmi * \n",
       "    smoker + age * smoker, data = data_without_outliers)\n",
       "\n",
       "Residuals:\n",
       "     Min       1Q   Median       3Q      Max \n",
       "-0.58255 -0.15322 -0.07553 -0.00363  2.42595 \n",
       "\n",
       "Coefficients:\n",
       "                            Estimate Std. Error t value Pr(>|t|)    \n",
       "(Intercept)                6.9980596  0.0716803  97.629  < 2e-16 ***\n",
       "age                        0.0441375  0.0009712  45.445  < 2e-16 ***\n",
       "sexmale                   -0.1043837  0.0230160  -4.535 6.29e-06 ***\n",
       "bmi                        0.0020593  0.0020037   1.028   0.3042    \n",
       "children                   0.2927568  0.0276159  10.601  < 2e-16 ***\n",
       "smokeryes                  1.2876862  0.1484071   8.677  < 2e-16 ***\n",
       "regionnorthwest           -0.0720521  0.0327482  -2.200   0.0280 *  \n",
       "regionsoutheast           -0.1558602  0.0336687  -4.629 4.04e-06 ***\n",
       "regionsouthwest           -0.1795508  0.0327590  -5.481 5.08e-08 ***\n",
       "age:children              -0.0041807  0.0006593  -6.341 3.14e-10 ***\n",
       "smokeryes:regionnorthwest  0.0494127  0.0763718   0.647   0.5177    \n",
       "smokeryes:regionsoutheast  0.0776009  0.0721900   1.075   0.2826    \n",
       "smokeryes:regionsouthwest  0.1611341  0.0763921   2.109   0.0351 *  \n",
       "sexmale:smokeryes          0.0989137  0.0530584   1.864   0.0625 .  \n",
       "children:smokeryes        -0.1191951  0.0225463  -5.287 1.46e-07 ***\n",
       "bmi:smokeryes              0.0473356  0.0043791  10.809  < 2e-16 ***\n",
       "age:smokeryes             -0.0306383  0.0019285 -15.887  < 2e-16 ***\n",
       "---\n",
       "Signif. codes:  0 '***' 0.001 '**' 0.01 '*' 0.05 '.' 0.1 ' ' 1\n",
       "\n",
       "Residual standard error: 0.3727 on 1296 degrees of freedom\n",
       "Multiple R-squared:  0.8337,\tAdjusted R-squared:  0.8317 \n",
       "F-statistic: 406.1 on 16 and 1296 DF,  p-value: < 2.2e-16\n"
      ]
     },
     "metadata": {},
     "output_type": "display_data"
    },
    {
     "data": {
      "image/png": "[encoded data removed]",
      "text/plain": [
       "Plot with title \"\""
      ]
     },
     "metadata": {},
     "output_type": "display_data"
    }
   ],
   "source": [
    "liniowy2=lm(formula = log(data_without_outliers$charges)~.+age*children+smoker*region+smoker*sex+children*smoker+bmi*smoker+age*smoker, data=data_without_outliers)\n",
    "summary(liniowy2)\n",
    "options(repr.plot.width=10, repr.plot.height=5)\n",
    "par(mfrow = c(2, 2));\n",
    "plot(liniowy2)\n"
   ]
  },
  {
   "cell_type": "code",
   "execution_count": 584,
   "id": "429664f0",
   "metadata": {},
   "outputs": [
    {
     "data": {
      "text/html": [
       "<table>\n",
       "<thead><tr><th scope=col>fit</th><th scope=col>lwr</th><th scope=col>upr</th></tr></thead>\n",
       "<tbody>\n",
       "\t<tr><td>19968.92</td><td>17395.27</td><td>22923.36</td></tr>\n",
       "</tbody>\n",
       "</table>\n"
      ],
      "text/latex": [
       "\\begin{tabular}{r|lll}\n",
       " fit & lwr & upr\\\\\n",
       "\\hline\n",
       "\t 19968.92 & 17395.27 & 22923.36\\\\\n",
       "\\end{tabular}\n"
      ],
      "text/markdown": [
       "\n",
       "| fit | lwr | upr |\n",
       "|---|---|---|\n",
       "| 19968.92 | 17395.27 | 22923.36 |\n",
       "\n"
      ],
      "text/plain": [
       "  fit      lwr      upr     \n",
       "1 19968.92 17395.27 22923.36"
      ]
     },
     "metadata": {},
     "output_type": "display_data"
    },
    {
     "data": {
      "text/html": [
       "<table>\n",
       "<thead><tr><th scope=col>fit</th><th scope=col>lwr</th><th scope=col>upr</th></tr></thead>\n",
       "<tbody>\n",
       "\t<tr><td>20695.44</td><td>18111.53</td><td>23648   </td></tr>\n",
       "</tbody>\n",
       "</table>\n"
      ],
      "text/latex": [
       "\\begin{tabular}{r|lll}\n",
       " fit & lwr & upr\\\\\n",
       "\\hline\n",
       "\t 20695.44 & 18111.53 & 23648   \\\\\n",
       "\\end{tabular}\n"
      ],
      "text/markdown": [
       "\n",
       "| fit | lwr | upr |\n",
       "|---|---|---|\n",
       "| 20695.44 | 18111.53 | 23648    |\n",
       "\n"
      ],
      "text/plain": [
       "  fit      lwr      upr  \n",
       "1 20695.44 18111.53 23648"
      ]
     },
     "metadata": {},
     "output_type": "display_data"
    },
    {
     "data": {
      "text/html": [
       "<table>\n",
       "<thead><tr><th scope=col>fit</th><th scope=col>lwr</th><th scope=col>upr</th></tr></thead>\n",
       "<tbody>\n",
       "\t<tr><td>13175.8 </td><td>12111.07</td><td>14334.14</td></tr>\n",
       "</tbody>\n",
       "</table>\n"
      ],
      "text/latex": [
       "\\begin{tabular}{r|lll}\n",
       " fit & lwr & upr\\\\\n",
       "\\hline\n",
       "\t 13175.8  & 12111.07 & 14334.14\\\\\n",
       "\\end{tabular}\n"
      ],
      "text/markdown": [
       "\n",
       "| fit | lwr | upr |\n",
       "|---|---|---|\n",
       "| 13175.8  | 12111.07 | 14334.14 |\n",
       "\n"
      ],
      "text/plain": [
       "  fit     lwr      upr     \n",
       "1 13175.8 12111.07 14334.14"
      ]
     },
     "metadata": {},
     "output_type": "display_data"
    },
    {
     "data": {
      "text/html": [
       "16884.924"
      ],
      "text/latex": [
       "16884.924"
      ],
      "text/markdown": [
       "16884.924"
      ],
      "text/plain": [
       "[1] 16884.92"
      ]
     },
     "metadata": {},
     "output_type": "display_data"
    }
   ],
   "source": [
    "predykcja=data[1, 1:6]\n",
    "x=predict(liniowy2, newdata=predykcja, level = 0.95, interval = \"confidence\")\n",
    "exp(x)\n",
    "x=predict(liniowy1, newdata=predykcja, level = 0.95, interval = \"confidence\")\n",
    "exp(x)\n",
    "x=predict(liniowy, newdata=predykcja, level = 0.95, interval = \"confidence\")\n",
    "exp(x)\n",
    "data[1, 7]\n"
   ]
  },
  {
   "cell_type": "code",
   "execution_count": 536,
   "id": "226e39e0",
   "metadata": {},
   "outputs": [
    {
     "data": {
      "text/html": [
       "1637.03339852665"
      ],
      "text/latex": [
       "1637.03339852665"
      ],
      "text/markdown": [
       "1637.03339852665"
      ],
      "text/plain": [
       "[1] 1637.033"
      ]
     },
     "metadata": {},
     "output_type": "display_data"
    },
    {
     "data": {
      "text/html": [
       "1201.5606253365"
      ],
      "text/latex": [
       "1201.5606253365"
      ],
      "text/markdown": [
       "1201.5606253365"
      ],
      "text/plain": [
       "[1] 1201.561"
      ]
     },
     "metadata": {},
     "output_type": "display_data"
    },
    {
     "data": {
      "text/html": [
       "1153.41433227594"
      ],
      "text/latex": [
       "1153.41433227594"
      ],
      "text/markdown": [
       "1153.41433227594"
      ],
      "text/plain": [
       "[1] 1153.414"
      ]
     },
     "metadata": {},
     "output_type": "display_data"
    }
   ],
   "source": [
    "AIC(liniowy)\n",
    "AIC(liniowy1)\n",
    "AIC(liniowy2)"
   ]
  },
  {
   "cell_type": "markdown",
   "id": "f377e651",
   "metadata": {},
   "source": [
    "Z analizy AIC widać, że po usunięciu danych odstajających nie wpływowych udało się jeszcze bardziej poprawić ten model (AIC dla ostatniego modelu jest najniższe). Lecz z diagnostyki graficznej tych modeli widać, że modele te nie są najlepsze, reszty w tych modelach nie mają rozkładu normalnego, jest więcej reszt powyżej zera, więc model ten może trochę zawyżać swoje predykcje. Spróbowano zrobić predykcję dla danych z pierwszego rzędu naszyh danych, i predykcja zrobiona z zastosowaniem modeli liniowy1 i liniowy2 zwraca trochę większą wartość, niż rzeczywista. Przyczyną mogą być heavy tails na QQ-Plot, które wskazują na to, że jest dużo wartości ekstremalnych."
   ]
  },
  {
   "cell_type": "markdown",
   "id": "62c90797",
   "metadata": {},
   "source": [
    "Ponieważ rozkładu kwantyli (QQ-Plot) dla rozkładu wykładniczego był podobny do rozkładu kwantyli naszych danych zrobimy model na podstawie rozkładu gamma:"
   ]
  },
  {
   "cell_type": "code",
   "execution_count": 546,
   "id": "d6a9273e",
   "metadata": {},
   "outputs": [
    {
     "data": {
      "text/plain": [
       "\n",
       "Call:\n",
       "glm(formula = data$charges ~ ., family = \"Gamma\", data = data)\n",
       "\n",
       "Deviance Residuals: \n",
       "     Min        1Q    Median        3Q       Max  \n",
       "-1.48397  -0.48833  -0.08737   0.21243   1.74444  \n",
       "\n",
       "Coefficients:\n",
       "                  Estimate Std. Error z value Pr(>|z|)    \n",
       "(Intercept)      1.932e-04  1.000e-05  19.308  < 2e-16 ***\n",
       "age             -9.693e-07  1.205e-07  -8.042 8.84e-16 ***\n",
       "sexmale          1.224e-06  3.004e-06   0.407   0.6837    \n",
       "bmi             -1.133e-06  2.564e-07  -4.417 9.99e-06 ***\n",
       "children        -2.157e-06  1.290e-06  -1.672   0.0945 .  \n",
       "smokeryes       -8.207e-05  4.139e-06 -19.828  < 2e-16 ***\n",
       "regionnorthwest  1.786e-06  4.406e-06   0.405   0.6852    \n",
       "regionsoutheast  4.282e-06  3.969e-06   1.079   0.2806    \n",
       "regionsouthwest  2.918e-06  4.331e-06   0.674   0.5004    \n",
       "---\n",
       "Signif. codes:  0 '***' 0.001 '**' 0.01 '*' 0.05 '.' 0.1 ' ' 1\n",
       "\n",
       "(Dispersion parameter for Gamma family taken to be 1)\n",
       "\n",
       "    Null deviance: 1056.0  on 1337  degrees of freedom\n",
       "Residual deviance:  478.7  on 1329  degrees of freedom\n",
       "AIC: 26869\n",
       "\n",
       "Number of Fisher Scoring iterations: 6\n"
      ]
     },
     "metadata": {},
     "output_type": "display_data"
    }
   ],
   "source": [
    "model1=glm(formula = data$charges~., family=\"Gamma\", data = data)\n",
    "summary(model1, dispersion=1)"
   ]
  },
  {
   "cell_type": "code",
   "execution_count": 547,
   "id": "2d04529e",
   "metadata": {},
   "outputs": [],
   "source": [
    "model2=step(model1, trace=0)"
   ]
  },
  {
   "cell_type": "code",
   "execution_count": 548,
   "id": "a29df2cc",
   "metadata": {},
   "outputs": [
    {
     "data": {
      "text/plain": [
       "\n",
       "Call:\n",
       "glm(formula = data$charges ~ age + bmi + children + smoker, family = \"Gamma\", \n",
       "    data = data)\n",
       "\n",
       "Deviance Residuals: \n",
       "    Min       1Q   Median       3Q      Max  \n",
       "-1.4870  -0.4916  -0.0861   0.2110   1.7383  \n",
       "\n",
       "Coefficients:\n",
       "              Estimate Std. Error z value Pr(>|z|)    \n",
       "(Intercept)  1.935e-04  9.437e-06  20.500  < 2e-16 ***\n",
       "age         -9.687e-07  1.193e-07  -8.117 4.78e-16 ***\n",
       "bmi         -1.047e-06  2.398e-07  -4.366 1.27e-05 ***\n",
       "children    -2.274e-06  1.270e-06  -1.791   0.0733 .  \n",
       "smokeryes   -8.187e-05  4.129e-06 -19.827  < 2e-16 ***\n",
       "---\n",
       "Signif. codes:  0 '***' 0.001 '**' 0.01 '*' 0.05 '.' 0.1 ' ' 1\n",
       "\n",
       "(Dispersion parameter for Gamma family taken to be 1)\n",
       "\n",
       "    Null deviance: 1056.04  on 1337  degrees of freedom\n",
       "Residual deviance:  480.11  on 1333  degrees of freedom\n",
       "AIC: 26865\n",
       "\n",
       "Number of Fisher Scoring iterations: 6\n"
      ]
     },
     "metadata": {},
     "output_type": "display_data"
    }
   ],
   "source": [
    "summary(model2, dispersion=1)"
   ]
  },
  {
   "cell_type": "code",
   "execution_count": 550,
   "id": "5928b8cd",
   "metadata": {},
   "outputs": [
    {
     "data": {
      "text/html": [
       "26869.2671491821"
      ],
      "text/latex": [
       "26869.2671491821"
      ],
      "text/markdown": [
       "26869.2671491821"
      ],
      "text/plain": [
       "[1] 26869.27"
      ]
     },
     "metadata": {},
     "output_type": "display_data"
    },
    {
     "data": {
      "text/html": [
       "26865.4347536686"
      ],
      "text/latex": [
       "26865.4347536686"
      ],
      "text/markdown": [
       "26865.4347536686"
      ],
      "text/plain": [
       "[1] 26865.43"
      ]
     },
     "metadata": {},
     "output_type": "display_data"
    },
    {
     "data": {
      "text/html": [
       "<table>\n",
       "<thead><tr><th scope=col>Resid. Df</th><th scope=col>Resid. Dev</th><th scope=col>Df</th><th scope=col>Deviance</th><th scope=col>Pr(&gt;Chi)</th></tr></thead>\n",
       "<tbody>\n",
       "\t<tr><td>1329     </td><td>478.6984 </td><td>NA       </td><td>       NA</td><td>       NA</td></tr>\n",
       "\t<tr><td>1333     </td><td>480.1085 </td><td>-4       </td><td>-1.410064</td><td>0.4545234</td></tr>\n",
       "</tbody>\n",
       "</table>\n"
      ],
      "text/latex": [
       "\\begin{tabular}{r|lllll}\n",
       " Resid. Df & Resid. Dev & Df & Deviance & Pr(>Chi)\\\\\n",
       "\\hline\n",
       "\t 1329      & 478.6984  & NA        &        NA &        NA\\\\\n",
       "\t 1333      & 480.1085  & -4        & -1.410064 & 0.4545234\\\\\n",
       "\\end{tabular}\n"
      ],
      "text/markdown": [
       "\n",
       "| Resid. Df | Resid. Dev | Df | Deviance | Pr(>Chi) |\n",
       "|---|---|---|---|---|\n",
       "| 1329      | 478.6984  | NA        |        NA |        NA |\n",
       "| 1333      | 480.1085  | -4        | -1.410064 | 0.4545234 |\n",
       "\n"
      ],
      "text/plain": [
       "  Resid. Df Resid. Dev Df Deviance  Pr(>Chi) \n",
       "1 1329      478.6984   NA        NA        NA\n",
       "2 1333      480.1085   -4 -1.410064 0.4545234"
      ]
     },
     "metadata": {},
     "output_type": "display_data"
    }
   ],
   "source": [
    "AIC(model1)\n",
    "AIC(model2)\n",
    "anova(model1, model2, test=\"LRT\")"
   ]
  },
  {
   "cell_type": "code",
   "execution_count": 551,
   "id": "ffd129fe",
   "metadata": {},
   "outputs": [
    {
     "data": {
      "text/plain": [
       "\n",
       "Call:\n",
       "glm(formula = data$charges ~ . + age * children + smoker * region + \n",
       "    smoker * sex + children * smoker + bmi * smoker + age * smoker, \n",
       "    family = \"Gamma\", data = data)\n",
       "\n",
       "Deviance Residuals: \n",
       "     Min        1Q    Median        3Q       Max  \n",
       "-1.03828  -0.27142  -0.11059  -0.00349   2.65779  \n",
       "\n",
       "Coefficients:\n",
       "                            Estimate Std. Error z value Pr(>|z|)    \n",
       "(Intercept)                3.137e-04  2.335e-05  13.435  < 2e-16 ***\n",
       "age                       -4.167e-06  3.061e-07 -13.615  < 2e-16 ***\n",
       "sexmale                    4.884e-06  6.569e-06   0.743 0.457222    \n",
       "bmi                       -7.165e-08  5.815e-07  -0.123 0.901942    \n",
       "children                  -1.816e-05  5.869e-06  -3.095 0.001970 ** \n",
       "smokeryes                 -2.251e-04  2.515e-05  -8.947  < 2e-16 ***\n",
       "regionnorthwest            6.609e-06  8.737e-06   0.756 0.449382    \n",
       "regionsoutheast            1.255e-05  9.260e-06   1.355 0.175499    \n",
       "regionsouthwest            1.487e-05  9.266e-06   1.605 0.108417    \n",
       "age:children               1.610e-07  1.051e-07   1.531 0.125696    \n",
       "smokeryes:regionnorthwest -7.266e-06  1.049e-05  -0.693 0.488553    \n",
       "smokeryes:regionsoutheast -1.009e-05  1.061e-05  -0.951 0.341772    \n",
       "smokeryes:regionsouthwest -1.461e-05  1.081e-05  -1.351 0.176684    \n",
       "sexmale:smokeryes         -5.895e-06  7.531e-06  -0.783 0.433796    \n",
       "children:smokeryes         1.151e-05  3.111e-06   3.700 0.000216 ***\n",
       "bmi:smokeryes             -1.203e-06  6.406e-07  -1.878 0.060415 .  \n",
       "age:smokeryes              3.771e-06  3.097e-07  12.177  < 2e-16 ***\n",
       "---\n",
       "Signif. codes:  0 '***' 0.001 '**' 0.01 '*' 0.05 '.' 0.1 ' ' 1\n",
       "\n",
       "(Dispersion parameter for Gamma family taken to be 1)\n",
       "\n",
       "    Null deviance: 1056.04  on 1337  degrees of freedom\n",
       "Residual deviance:  313.32  on 1321  degrees of freedom\n",
       "AIC: 26291\n",
       "\n",
       "Number of Fisher Scoring iterations: 6\n"
      ]
     },
     "metadata": {},
     "output_type": "display_data"
    }
   ],
   "source": [
    "model3=glm(formula = data$charges~.+age*children+smoker*region+smoker*sex+children*smoker+bmi*smoker+age*smoker, family=\"Gamma\", data = data)\n",
    "summary(model3, dispersion=1)"
   ]
  },
  {
   "cell_type": "code",
   "execution_count": 552,
   "id": "8ed907c3",
   "metadata": {},
   "outputs": [
    {
     "data": {
      "text/plain": [
       "\n",
       "Call:\n",
       "glm(formula = data$charges ~ age + children + smoker + children * \n",
       "    smoker + bmi * smoker + age * smoker, family = \"Gamma\", data = data)\n",
       "\n",
       "Deviance Residuals: \n",
       "     Min        1Q    Median        3Q       Max  \n",
       "-1.07818  -0.26913  -0.10325  -0.00769   2.60314  \n",
       "\n",
       "Coefficients:\n",
       "                     Estimate Std. Error z value Pr(>|z|)    \n",
       "(Intercept)         3.084e-04  2.123e-05  14.525  < 2e-16 ***\n",
       "age                -4.008e-06  2.776e-07 -14.437  < 2e-16 ***\n",
       "children           -9.815e-06  2.401e-06  -4.089 4.34e-05 ***\n",
       "smokeryes          -2.272e-04  2.362e-05  -9.620  < 2e-16 ***\n",
       "bmi                 1.625e-07  5.590e-07   0.291 0.771311    \n",
       "children:smokeryes  9.660e-06  2.884e-06   3.350 0.000809 ***\n",
       "smokeryes:bmi      -1.377e-06  6.107e-07  -2.254 0.024168 *  \n",
       "age:smokeryes       3.751e-06  3.055e-07  12.280  < 2e-16 ***\n",
       "---\n",
       "Signif. codes:  0 '***' 0.001 '**' 0.01 '*' 0.05 '.' 0.1 ' ' 1\n",
       "\n",
       "(Dispersion parameter for Gamma family taken to be 1)\n",
       "\n",
       "    Null deviance: 1056.04  on 1337  degrees of freedom\n",
       "Residual deviance:  319.72  on 1330  degrees of freedom\n",
       "AIC: 26301\n",
       "\n",
       "Number of Fisher Scoring iterations: 6\n"
      ]
     },
     "metadata": {},
     "output_type": "display_data"
    }
   ],
   "source": [
    "model4=glm(formula = data$charges~age+children+smoker+children*smoker+bmi*smoker+age*smoker, family=\"Gamma\", data = data)\n",
    "summary(model4, dispersion=1)"
   ]
  },
  {
   "cell_type": "code",
   "execution_count": 553,
   "id": "800d5f8e",
   "metadata": {},
   "outputs": [
    {
     "data": {
      "text/html": [
       "26869.2671491821"
      ],
      "text/latex": [
       "26869.2671491821"
      ],
      "text/markdown": [
       "26869.2671491821"
      ],
      "text/plain": [
       "[1] 26869.27"
      ]
     },
     "metadata": {},
     "output_type": "display_data"
    },
    {
     "data": {
      "text/html": [
       "26865.4347536686"
      ],
      "text/latex": [
       "26865.4347536686"
      ],
      "text/markdown": [
       "26865.4347536686"
      ],
      "text/plain": [
       "[1] 26865.43"
      ]
     },
     "metadata": {},
     "output_type": "display_data"
    },
    {
     "data": {
      "text/html": [
       "26290.8247990866"
      ],
      "text/latex": [
       "26290.8247990866"
      ],
      "text/markdown": [
       "26290.8247990866"
      ],
      "text/plain": [
       "[1] 26290.82"
      ]
     },
     "metadata": {},
     "output_type": "display_data"
    },
    {
     "data": {
      "text/html": [
       "26300.9567615349"
      ],
      "text/latex": [
       "26300.9567615349"
      ],
      "text/markdown": [
       "26300.9567615349"
      ],
      "text/plain": [
       "[1] 26300.96"
      ]
     },
     "metadata": {},
     "output_type": "display_data"
    }
   ],
   "source": [
    "AIC(model1)\n",
    "AIC(model2)\n",
    "AIC(model3)\n",
    "AIC(model4)"
   ]
  },
  {
   "cell_type": "code",
   "execution_count": 554,
   "id": "b9695e13",
   "metadata": {},
   "outputs": [],
   "source": [
    "n = length(data$charges)"
   ]
  },
  {
   "cell_type": "code",
   "execution_count": 555,
   "id": "550c1dbd",
   "metadata": {},
   "outputs": [],
   "source": [
    "influences <- influence.measures(model2)\n",
    "wplywowe=which(apply(influences$is.inf, 1, any))"
   ]
  },
  {
   "cell_type": "code",
   "execution_count": 556,
   "id": "a8045b90",
   "metadata": {},
   "outputs": [
    {
     "data": {
      "text/html": [
       "<strong>243:</strong> 2.91009320400978"
      ],
      "text/latex": [
       "\\textbf{243:} 2.91009320400978"
      ],
      "text/markdown": [
       "**243:** 2.91009320400978"
      ],
      "text/plain": [
       "     243 \n",
       "2.910093 "
      ]
     },
     "metadata": {},
     "output_type": "display_data"
    },
    {
     "data": {
      "text/html": [
       "<dl class=dl-horizontal>\n",
       "\t<dt>78</dt>\n",
       "\t\t<dd>78</dd>\n",
       "\t<dt>139</dt>\n",
       "\t\t<dd>139</dd>\n",
       "\t<dt>182</dt>\n",
       "\t\t<dd>182</dd>\n",
       "\t<dt>290</dt>\n",
       "\t\t<dd>290</dd>\n",
       "\t<dt>400</dt>\n",
       "\t\t<dd>400</dd>\n",
       "\t<dt>479</dt>\n",
       "\t\t<dd>479</dd>\n",
       "\t<dt>601</dt>\n",
       "\t\t<dd>601</dd>\n",
       "\t<dt>841</dt>\n",
       "\t\t<dd>841</dd>\n",
       "\t<dt>889</dt>\n",
       "\t\t<dd>889</dd>\n",
       "\t<dt>899</dt>\n",
       "\t\t<dd>899</dd>\n",
       "\t<dt>1212</dt>\n",
       "\t\t<dd>1212</dd>\n",
       "\t<dt>1249</dt>\n",
       "\t\t<dd>1249</dd>\n",
       "\t<dt>1259</dt>\n",
       "\t\t<dd>1259</dd>\n",
       "\t<dt>1336</dt>\n",
       "\t\t<dd>1336</dd>\n",
       "</dl>\n"
      ],
      "text/latex": [
       "\\begin{description*}\n",
       "\\item[78] 78\n",
       "\\item[139] 139\n",
       "\\item[182] 182\n",
       "\\item[290] 290\n",
       "\\item[400] 400\n",
       "\\item[479] 479\n",
       "\\item[601] 601\n",
       "\\item[841] 841\n",
       "\\item[889] 889\n",
       "\\item[899] 899\n",
       "\\item[1212] 1212\n",
       "\\item[1249] 1249\n",
       "\\item[1259] 1259\n",
       "\\item[1336] 1336\n",
       "\\end{description*}\n"
      ],
      "text/markdown": [
       "78\n",
       ":   78139\n",
       ":   139182\n",
       ":   182290\n",
       ":   290400\n",
       ":   400479\n",
       ":   479601\n",
       ":   601841\n",
       ":   841889\n",
       ":   889899\n",
       ":   8991212\n",
       ":   12121249\n",
       ":   12491259\n",
       ":   12591336\n",
       ":   1336\n",
       "\n"
      ],
      "text/plain": [
       "  78  139  182  290  400  479  601  841  889  899 1212 1249 1259 1336 \n",
       "  78  139  182  290  400  479  601  841  889  899 1212 1249 1259 1336 "
      ]
     },
     "metadata": {},
     "output_type": "display_data"
    },
    {
     "data": {
      "text/html": [
       "<table>\n",
       "<thead><tr><th></th><th scope=col>age</th><th scope=col>sex</th><th scope=col>bmi</th><th scope=col>children</th><th scope=col>smoker</th><th scope=col>region</th><th scope=col>charges</th></tr></thead>\n",
       "<tbody>\n",
       "\t<tr><th scope=row>1</th><td>19       </td><td>female   </td><td>27.900   </td><td>0        </td><td>yes      </td><td>southwest</td><td>16884.924</td></tr>\n",
       "\t<tr><th scope=row>2</th><td>18       </td><td>male     </td><td>33.770   </td><td>1        </td><td>no       </td><td>southeast</td><td> 1725.552</td></tr>\n",
       "\t<tr><th scope=row>3</th><td>28       </td><td>male     </td><td>33.000   </td><td>3        </td><td>no       </td><td>southeast</td><td> 4449.462</td></tr>\n",
       "\t<tr><th scope=row>4</th><td>33       </td><td>male     </td><td>22.705   </td><td>0        </td><td>no       </td><td>northwest</td><td>21984.471</td></tr>\n",
       "\t<tr><th scope=row>5</th><td>32       </td><td>male     </td><td>28.880   </td><td>0        </td><td>no       </td><td>northwest</td><td> 3866.855</td></tr>\n",
       "\t<tr><th scope=row>6</th><td>31       </td><td>female   </td><td>25.740   </td><td>0        </td><td>no       </td><td>southeast</td><td> 3756.622</td></tr>\n",
       "\t<tr><th scope=row>7</th><td>46       </td><td>female   </td><td>33.440   </td><td>1        </td><td>no       </td><td>southeast</td><td> 8240.590</td></tr>\n",
       "\t<tr><th scope=row>8</th><td>37       </td><td>female   </td><td>27.740   </td><td>3        </td><td>no       </td><td>northwest</td><td> 7281.506</td></tr>\n",
       "\t<tr><th scope=row>9</th><td>37       </td><td>male     </td><td>29.830   </td><td>2        </td><td>no       </td><td>northeast</td><td> 6406.411</td></tr>\n",
       "\t<tr><th scope=row>10</th><td>60       </td><td>female   </td><td>25.840   </td><td>0        </td><td>no       </td><td>northwest</td><td>28923.137</td></tr>\n",
       "\t<tr><th scope=row>11</th><td>25       </td><td>male     </td><td>26.220   </td><td>0        </td><td>no       </td><td>northeast</td><td> 2721.321</td></tr>\n",
       "\t<tr><th scope=row>12</th><td>62       </td><td>female   </td><td>26.290   </td><td>0        </td><td>yes      </td><td>southeast</td><td>27808.725</td></tr>\n",
       "\t<tr><th scope=row>13</th><td>23       </td><td>male     </td><td>34.400   </td><td>0        </td><td>no       </td><td>southwest</td><td> 1826.843</td></tr>\n",
       "\t<tr><th scope=row>14</th><td>56       </td><td>female   </td><td>39.820   </td><td>0        </td><td>no       </td><td>southeast</td><td>11090.718</td></tr>\n",
       "\t<tr><th scope=row>15</th><td>27       </td><td>male     </td><td>42.130   </td><td>0        </td><td>yes      </td><td>southeast</td><td>39611.758</td></tr>\n",
       "\t<tr><th scope=row>16</th><td>19       </td><td>male     </td><td>24.600   </td><td>1        </td><td>no       </td><td>southwest</td><td> 1837.237</td></tr>\n",
       "\t<tr><th scope=row>17</th><td>52       </td><td>female   </td><td>30.780   </td><td>1        </td><td>no       </td><td>northeast</td><td>10797.336</td></tr>\n",
       "\t<tr><th scope=row>18</th><td>23       </td><td>male     </td><td>23.845   </td><td>0        </td><td>no       </td><td>northeast</td><td> 2395.172</td></tr>\n",
       "\t<tr><th scope=row>19</th><td>56       </td><td>male     </td><td>40.300   </td><td>0        </td><td>no       </td><td>southwest</td><td>10602.385</td></tr>\n",
       "\t<tr><th scope=row>20</th><td>30       </td><td>male     </td><td>35.300   </td><td>0        </td><td>yes      </td><td>southwest</td><td>36837.467</td></tr>\n",
       "\t<tr><th scope=row>21</th><td>60       </td><td>female   </td><td>36.005   </td><td>0        </td><td>no       </td><td>northeast</td><td>13228.847</td></tr>\n",
       "\t<tr><th scope=row>22</th><td>30       </td><td>female   </td><td>32.400   </td><td>1        </td><td>no       </td><td>southwest</td><td> 4149.736</td></tr>\n",
       "\t<tr><th scope=row>23</th><td>18       </td><td>male     </td><td>34.100   </td><td>0        </td><td>no       </td><td>southeast</td><td> 1137.011</td></tr>\n",
       "\t<tr><th scope=row>24</th><td>34       </td><td>female   </td><td>31.920   </td><td>1        </td><td>yes      </td><td>northeast</td><td>37701.877</td></tr>\n",
       "\t<tr><th scope=row>25</th><td>37       </td><td>male     </td><td>28.025   </td><td>2        </td><td>no       </td><td>northwest</td><td> 6203.902</td></tr>\n",
       "\t<tr><th scope=row>26</th><td>59       </td><td>female   </td><td>27.720   </td><td>3        </td><td>no       </td><td>southeast</td><td>14001.134</td></tr>\n",
       "\t<tr><th scope=row>27</th><td>63       </td><td>female   </td><td>23.085   </td><td>0        </td><td>no       </td><td>northeast</td><td>14451.835</td></tr>\n",
       "\t<tr><th scope=row>28</th><td>55       </td><td>female   </td><td>32.775   </td><td>2        </td><td>no       </td><td>northwest</td><td>12268.632</td></tr>\n",
       "\t<tr><th scope=row>29</th><td>23       </td><td>male     </td><td>17.385   </td><td>1        </td><td>no       </td><td>northwest</td><td> 2775.192</td></tr>\n",
       "\t<tr><th scope=row>30</th><td>31       </td><td>male     </td><td>36.300   </td><td>2        </td><td>yes      </td><td>southwest</td><td>38711.000</td></tr>\n",
       "\t<tr><th scope=row>...</th><td>...</td><td>...</td><td>...</td><td>...</td><td>...</td><td>...</td><td>...</td></tr>\n",
       "\t<tr><th scope=row>1308</th><td>32       </td><td>male     </td><td>28.120   </td><td>4        </td><td>yes      </td><td>northwest</td><td>21472.479</td></tr>\n",
       "\t<tr><th scope=row>1309</th><td>25       </td><td>female   </td><td>30.200   </td><td>0        </td><td>yes      </td><td>southwest</td><td>33900.653</td></tr>\n",
       "\t<tr><th scope=row>1310</th><td>41       </td><td>male     </td><td>32.200   </td><td>2        </td><td>no       </td><td>southwest</td><td> 6875.961</td></tr>\n",
       "\t<tr><th scope=row>1311</th><td>42       </td><td>male     </td><td>26.315   </td><td>1        </td><td>no       </td><td>northwest</td><td> 6940.910</td></tr>\n",
       "\t<tr><th scope=row>1312</th><td>33       </td><td>female   </td><td>26.695   </td><td>0        </td><td>no       </td><td>northwest</td><td> 4571.413</td></tr>\n",
       "\t<tr><th scope=row>1313</th><td>34       </td><td>male     </td><td>42.900   </td><td>1        </td><td>no       </td><td>southwest</td><td> 4536.259</td></tr>\n",
       "\t<tr><th scope=row>1314</th><td>19       </td><td>female   </td><td>34.700   </td><td>2        </td><td>yes      </td><td>southwest</td><td>36397.576</td></tr>\n",
       "\t<tr><th scope=row>1315</th><td>30       </td><td>female   </td><td>23.655   </td><td>3        </td><td>yes      </td><td>northwest</td><td>18765.875</td></tr>\n",
       "\t<tr><th scope=row>1316</th><td>18       </td><td>male     </td><td>28.310   </td><td>1        </td><td>no       </td><td>northeast</td><td>11272.331</td></tr>\n",
       "\t<tr><th scope=row>1317</th><td>19       </td><td>female   </td><td>20.600   </td><td>0        </td><td>no       </td><td>southwest</td><td> 1731.677</td></tr>\n",
       "\t<tr><th scope=row>1318</th><td>18       </td><td>male     </td><td>53.130   </td><td>0        </td><td>no       </td><td>southeast</td><td> 1163.463</td></tr>\n",
       "\t<tr><th scope=row>1319</th><td>35       </td><td>male     </td><td>39.710   </td><td>4        </td><td>no       </td><td>northeast</td><td>19496.719</td></tr>\n",
       "\t<tr><th scope=row>1320</th><td>39       </td><td>female   </td><td>26.315   </td><td>2        </td><td>no       </td><td>northwest</td><td> 7201.701</td></tr>\n",
       "\t<tr><th scope=row>1321</th><td>31       </td><td>male     </td><td>31.065   </td><td>3        </td><td>no       </td><td>northwest</td><td> 5425.023</td></tr>\n",
       "\t<tr><th scope=row>1322</th><td>62       </td><td>male     </td><td>26.695   </td><td>0        </td><td>yes      </td><td>northeast</td><td>28101.333</td></tr>\n",
       "\t<tr><th scope=row>1323</th><td>62       </td><td>male     </td><td>38.830   </td><td>0        </td><td>no       </td><td>southeast</td><td>12981.346</td></tr>\n",
       "\t<tr><th scope=row>1324</th><td>42       </td><td>female   </td><td>40.370   </td><td>2        </td><td>yes      </td><td>southeast</td><td>43896.376</td></tr>\n",
       "\t<tr><th scope=row>1325</th><td>31       </td><td>male     </td><td>25.935   </td><td>1        </td><td>no       </td><td>northwest</td><td> 4239.893</td></tr>\n",
       "\t<tr><th scope=row>1326</th><td>61       </td><td>male     </td><td>33.535   </td><td>0        </td><td>no       </td><td>northeast</td><td>13143.337</td></tr>\n",
       "\t<tr><th scope=row>1327</th><td>42       </td><td>female   </td><td>32.870   </td><td>0        </td><td>no       </td><td>northeast</td><td> 7050.021</td></tr>\n",
       "\t<tr><th scope=row>1328</th><td>51       </td><td>male     </td><td>30.030   </td><td>1        </td><td>no       </td><td>southeast</td><td> 9377.905</td></tr>\n",
       "\t<tr><th scope=row>1329</th><td>23       </td><td>female   </td><td>24.225   </td><td>2        </td><td>no       </td><td>northeast</td><td>22395.744</td></tr>\n",
       "\t<tr><th scope=row>1330</th><td>52       </td><td>male     </td><td>38.600   </td><td>2        </td><td>no       </td><td>southwest</td><td>10325.206</td></tr>\n",
       "\t<tr><th scope=row>1331</th><td>57       </td><td>female   </td><td>25.740   </td><td>2        </td><td>no       </td><td>southeast</td><td>12629.166</td></tr>\n",
       "\t<tr><th scope=row>1332</th><td>23       </td><td>female   </td><td>33.400   </td><td>0        </td><td>no       </td><td>southwest</td><td>10795.937</td></tr>\n",
       "\t<tr><th scope=row>1333</th><td>52       </td><td>female   </td><td>44.700   </td><td>3        </td><td>no       </td><td>southwest</td><td>11411.685</td></tr>\n",
       "\t<tr><th scope=row>1334</th><td>50       </td><td>male     </td><td>30.970   </td><td>3        </td><td>no       </td><td>northwest</td><td>10600.548</td></tr>\n",
       "\t<tr><th scope=row>1335</th><td>18       </td><td>female   </td><td>31.920   </td><td>0        </td><td>no       </td><td>northeast</td><td> 2205.981</td></tr>\n",
       "\t<tr><th scope=row>1337</th><td>21       </td><td>female   </td><td>25.800   </td><td>0        </td><td>no       </td><td>southwest</td><td> 2007.945</td></tr>\n",
       "\t<tr><th scope=row>1338</th><td>61       </td><td>female   </td><td>29.070   </td><td>0        </td><td>yes      </td><td>northwest</td><td>29141.360</td></tr>\n",
       "</tbody>\n",
       "</table>\n"
      ],
      "text/latex": [
       "\\begin{tabular}{r|lllllll}\n",
       "  & age & sex & bmi & children & smoker & region & charges\\\\\n",
       "\\hline\n",
       "\t1 & 19        & female    & 27.900    & 0         & yes       & southwest & 16884.924\\\\\n",
       "\t2 & 18        & male      & 33.770    & 1         & no        & southeast &  1725.552\\\\\n",
       "\t3 & 28        & male      & 33.000    & 3         & no        & southeast &  4449.462\\\\\n",
       "\t4 & 33        & male      & 22.705    & 0         & no        & northwest & 21984.471\\\\\n",
       "\t5 & 32        & male      & 28.880    & 0         & no        & northwest &  3866.855\\\\\n",
       "\t6 & 31        & female    & 25.740    & 0         & no        & southeast &  3756.622\\\\\n",
       "\t7 & 46        & female    & 33.440    & 1         & no        & southeast &  8240.590\\\\\n",
       "\t8 & 37        & female    & 27.740    & 3         & no        & northwest &  7281.506\\\\\n",
       "\t9 & 37        & male      & 29.830    & 2         & no        & northeast &  6406.411\\\\\n",
       "\t10 & 60        & female    & 25.840    & 0         & no        & northwest & 28923.137\\\\\n",
       "\t11 & 25        & male      & 26.220    & 0         & no        & northeast &  2721.321\\\\\n",
       "\t12 & 62        & female    & 26.290    & 0         & yes       & southeast & 27808.725\\\\\n",
       "\t13 & 23        & male      & 34.400    & 0         & no        & southwest &  1826.843\\\\\n",
       "\t14 & 56        & female    & 39.820    & 0         & no        & southeast & 11090.718\\\\\n",
       "\t15 & 27        & male      & 42.130    & 0         & yes       & southeast & 39611.758\\\\\n",
       "\t16 & 19        & male      & 24.600    & 1         & no        & southwest &  1837.237\\\\\n",
       "\t17 & 52        & female    & 30.780    & 1         & no        & northeast & 10797.336\\\\\n",
       "\t18 & 23        & male      & 23.845    & 0         & no        & northeast &  2395.172\\\\\n",
       "\t19 & 56        & male      & 40.300    & 0         & no        & southwest & 10602.385\\\\\n",
       "\t20 & 30        & male      & 35.300    & 0         & yes       & southwest & 36837.467\\\\\n",
       "\t21 & 60        & female    & 36.005    & 0         & no        & northeast & 13228.847\\\\\n",
       "\t22 & 30        & female    & 32.400    & 1         & no        & southwest &  4149.736\\\\\n",
       "\t23 & 18        & male      & 34.100    & 0         & no        & southeast &  1137.011\\\\\n",
       "\t24 & 34        & female    & 31.920    & 1         & yes       & northeast & 37701.877\\\\\n",
       "\t25 & 37        & male      & 28.025    & 2         & no        & northwest &  6203.902\\\\\n",
       "\t26 & 59        & female    & 27.720    & 3         & no        & southeast & 14001.134\\\\\n",
       "\t27 & 63        & female    & 23.085    & 0         & no        & northeast & 14451.835\\\\\n",
       "\t28 & 55        & female    & 32.775    & 2         & no        & northwest & 12268.632\\\\\n",
       "\t29 & 23        & male      & 17.385    & 1         & no        & northwest &  2775.192\\\\\n",
       "\t30 & 31        & male      & 36.300    & 2         & yes       & southwest & 38711.000\\\\\n",
       "\t... & ... & ... & ... & ... & ... & ... & ...\\\\\n",
       "\t1308 & 32        & male      & 28.120    & 4         & yes       & northwest & 21472.479\\\\\n",
       "\t1309 & 25        & female    & 30.200    & 0         & yes       & southwest & 33900.653\\\\\n",
       "\t1310 & 41        & male      & 32.200    & 2         & no        & southwest &  6875.961\\\\\n",
       "\t1311 & 42        & male      & 26.315    & 1         & no        & northwest &  6940.910\\\\\n",
       "\t1312 & 33        & female    & 26.695    & 0         & no        & northwest &  4571.413\\\\\n",
       "\t1313 & 34        & male      & 42.900    & 1         & no        & southwest &  4536.259\\\\\n",
       "\t1314 & 19        & female    & 34.700    & 2         & yes       & southwest & 36397.576\\\\\n",
       "\t1315 & 30        & female    & 23.655    & 3         & yes       & northwest & 18765.875\\\\\n",
       "\t1316 & 18        & male      & 28.310    & 1         & no        & northeast & 11272.331\\\\\n",
       "\t1317 & 19        & female    & 20.600    & 0         & no        & southwest &  1731.677\\\\\n",
       "\t1318 & 18        & male      & 53.130    & 0         & no        & southeast &  1163.463\\\\\n",
       "\t1319 & 35        & male      & 39.710    & 4         & no        & northeast & 19496.719\\\\\n",
       "\t1320 & 39        & female    & 26.315    & 2         & no        & northwest &  7201.701\\\\\n",
       "\t1321 & 31        & male      & 31.065    & 3         & no        & northwest &  5425.023\\\\\n",
       "\t1322 & 62        & male      & 26.695    & 0         & yes       & northeast & 28101.333\\\\\n",
       "\t1323 & 62        & male      & 38.830    & 0         & no        & southeast & 12981.346\\\\\n",
       "\t1324 & 42        & female    & 40.370    & 2         & yes       & southeast & 43896.376\\\\\n",
       "\t1325 & 31        & male      & 25.935    & 1         & no        & northwest &  4239.893\\\\\n",
       "\t1326 & 61        & male      & 33.535    & 0         & no        & northeast & 13143.337\\\\\n",
       "\t1327 & 42        & female    & 32.870    & 0         & no        & northeast &  7050.021\\\\\n",
       "\t1328 & 51        & male      & 30.030    & 1         & no        & southeast &  9377.905\\\\\n",
       "\t1329 & 23        & female    & 24.225    & 2         & no        & northeast & 22395.744\\\\\n",
       "\t1330 & 52        & male      & 38.600    & 2         & no        & southwest & 10325.206\\\\\n",
       "\t1331 & 57        & female    & 25.740    & 2         & no        & southeast & 12629.166\\\\\n",
       "\t1332 & 23        & female    & 33.400    & 0         & no        & southwest & 10795.937\\\\\n",
       "\t1333 & 52        & female    & 44.700    & 3         & no        & southwest & 11411.685\\\\\n",
       "\t1334 & 50        & male      & 30.970    & 3         & no        & northwest & 10600.548\\\\\n",
       "\t1335 & 18        & female    & 31.920    & 0         & no        & northeast &  2205.981\\\\\n",
       "\t1337 & 21        & female    & 25.800    & 0         & no        & southwest &  2007.945\\\\\n",
       "\t1338 & 61        & female    & 29.070    & 0         & yes       & northwest & 29141.360\\\\\n",
       "\\end{tabular}\n"
      ],
      "text/markdown": [
       "\n",
       "| <!--/--> | age | sex | bmi | children | smoker | region | charges |\n",
       "|---|---|---|---|---|---|---|---|\n",
       "| 1 | 19        | female    | 27.900    | 0         | yes       | southwest | 16884.924 |\n",
       "| 2 | 18        | male      | 33.770    | 1         | no        | southeast |  1725.552 |\n",
       "| 3 | 28        | male      | 33.000    | 3         | no        | southeast |  4449.462 |\n",
       "| 4 | 33        | male      | 22.705    | 0         | no        | northwest | 21984.471 |\n",
       "| 5 | 32        | male      | 28.880    | 0         | no        | northwest |  3866.855 |\n",
       "| 6 | 31        | female    | 25.740    | 0         | no        | southeast |  3756.622 |\n",
       "| 7 | 46        | female    | 33.440    | 1         | no        | southeast |  8240.590 |\n",
       "| 8 | 37        | female    | 27.740    | 3         | no        | northwest |  7281.506 |\n",
       "| 9 | 37        | male      | 29.830    | 2         | no        | northeast |  6406.411 |\n",
       "| 10 | 60        | female    | 25.840    | 0         | no        | northwest | 28923.137 |\n",
       "| 11 | 25        | male      | 26.220    | 0         | no        | northeast |  2721.321 |\n",
       "| 12 | 62        | female    | 26.290    | 0         | yes       | southeast | 27808.725 |\n",
       "| 13 | 23        | male      | 34.400    | 0         | no        | southwest |  1826.843 |\n",
       "| 14 | 56        | female    | 39.820    | 0         | no        | southeast | 11090.718 |\n",
       "| 15 | 27        | male      | 42.130    | 0         | yes       | southeast | 39611.758 |\n",
       "| 16 | 19        | male      | 24.600    | 1         | no        | southwest |  1837.237 |\n",
       "| 17 | 52        | female    | 30.780    | 1         | no        | northeast | 10797.336 |\n",
       "| 18 | 23        | male      | 23.845    | 0         | no        | northeast |  2395.172 |\n",
       "| 19 | 56        | male      | 40.300    | 0         | no        | southwest | 10602.385 |\n",
       "| 20 | 30        | male      | 35.300    | 0         | yes       | southwest | 36837.467 |\n",
       "| 21 | 60        | female    | 36.005    | 0         | no        | northeast | 13228.847 |\n",
       "| 22 | 30        | female    | 32.400    | 1         | no        | southwest |  4149.736 |\n",
       "| 23 | 18        | male      | 34.100    | 0         | no        | southeast |  1137.011 |\n",
       "| 24 | 34        | female    | 31.920    | 1         | yes       | northeast | 37701.877 |\n",
       "| 25 | 37        | male      | 28.025    | 2         | no        | northwest |  6203.902 |\n",
       "| 26 | 59        | female    | 27.720    | 3         | no        | southeast | 14001.134 |\n",
       "| 27 | 63        | female    | 23.085    | 0         | no        | northeast | 14451.835 |\n",
       "| 28 | 55        | female    | 32.775    | 2         | no        | northwest | 12268.632 |\n",
       "| 29 | 23        | male      | 17.385    | 1         | no        | northwest |  2775.192 |\n",
       "| 30 | 31        | male      | 36.300    | 2         | yes       | southwest | 38711.000 |\n",
       "| ... | ... | ... | ... | ... | ... | ... | ... |\n",
       "| 1308 | 32        | male      | 28.120    | 4         | yes       | northwest | 21472.479 |\n",
       "| 1309 | 25        | female    | 30.200    | 0         | yes       | southwest | 33900.653 |\n",
       "| 1310 | 41        | male      | 32.200    | 2         | no        | southwest |  6875.961 |\n",
       "| 1311 | 42        | male      | 26.315    | 1         | no        | northwest |  6940.910 |\n",
       "| 1312 | 33        | female    | 26.695    | 0         | no        | northwest |  4571.413 |\n",
       "| 1313 | 34        | male      | 42.900    | 1         | no        | southwest |  4536.259 |\n",
       "| 1314 | 19        | female    | 34.700    | 2         | yes       | southwest | 36397.576 |\n",
       "| 1315 | 30        | female    | 23.655    | 3         | yes       | northwest | 18765.875 |\n",
       "| 1316 | 18        | male      | 28.310    | 1         | no        | northeast | 11272.331 |\n",
       "| 1317 | 19        | female    | 20.600    | 0         | no        | southwest |  1731.677 |\n",
       "| 1318 | 18        | male      | 53.130    | 0         | no        | southeast |  1163.463 |\n",
       "| 1319 | 35        | male      | 39.710    | 4         | no        | northeast | 19496.719 |\n",
       "| 1320 | 39        | female    | 26.315    | 2         | no        | northwest |  7201.701 |\n",
       "| 1321 | 31        | male      | 31.065    | 3         | no        | northwest |  5425.023 |\n",
       "| 1322 | 62        | male      | 26.695    | 0         | yes       | northeast | 28101.333 |\n",
       "| 1323 | 62        | male      | 38.830    | 0         | no        | southeast | 12981.346 |\n",
       "| 1324 | 42        | female    | 40.370    | 2         | yes       | southeast | 43896.376 |\n",
       "| 1325 | 31        | male      | 25.935    | 1         | no        | northwest |  4239.893 |\n",
       "| 1326 | 61        | male      | 33.535    | 0         | no        | northeast | 13143.337 |\n",
       "| 1327 | 42        | female    | 32.870    | 0         | no        | northeast |  7050.021 |\n",
       "| 1328 | 51        | male      | 30.030    | 1         | no        | southeast |  9377.905 |\n",
       "| 1329 | 23        | female    | 24.225    | 2         | no        | northeast | 22395.744 |\n",
       "| 1330 | 52        | male      | 38.600    | 2         | no        | southwest | 10325.206 |\n",
       "| 1331 | 57        | female    | 25.740    | 2         | no        | southeast | 12629.166 |\n",
       "| 1332 | 23        | female    | 33.400    | 0         | no        | southwest | 10795.937 |\n",
       "| 1333 | 52        | female    | 44.700    | 3         | no        | southwest | 11411.685 |\n",
       "| 1334 | 50        | male      | 30.970    | 3         | no        | northwest | 10600.548 |\n",
       "| 1335 | 18        | female    | 31.920    | 0         | no        | northeast |  2205.981 |\n",
       "| 1337 | 21        | female    | 25.800    | 0         | no        | southwest |  2007.945 |\n",
       "| 1338 | 61        | female    | 29.070    | 0         | yes       | northwest | 29141.360 |\n",
       "\n"
      ],
      "text/plain": [
       "     age sex    bmi    children smoker region    charges  \n",
       "1    19  female 27.900 0        yes    southwest 16884.924\n",
       "2    18  male   33.770 1        no     southeast  1725.552\n",
       "3    28  male   33.000 3        no     southeast  4449.462\n",
       "4    33  male   22.705 0        no     northwest 21984.471\n",
       "5    32  male   28.880 0        no     northwest  3866.855\n",
       "6    31  female 25.740 0        no     southeast  3756.622\n",
       "7    46  female 33.440 1        no     southeast  8240.590\n",
       "8    37  female 27.740 3        no     northwest  7281.506\n",
       "9    37  male   29.830 2        no     northeast  6406.411\n",
       "10   60  female 25.840 0        no     northwest 28923.137\n",
       "11   25  male   26.220 0        no     northeast  2721.321\n",
       "12   62  female 26.290 0        yes    southeast 27808.725\n",
       "13   23  male   34.400 0        no     southwest  1826.843\n",
       "14   56  female 39.820 0        no     southeast 11090.718\n",
       "15   27  male   42.130 0        yes    southeast 39611.758\n",
       "16   19  male   24.600 1        no     southwest  1837.237\n",
       "17   52  female 30.780 1        no     northeast 10797.336\n",
       "18   23  male   23.845 0        no     northeast  2395.172\n",
       "19   56  male   40.300 0        no     southwest 10602.385\n",
       "20   30  male   35.300 0        yes    southwest 36837.467\n",
       "21   60  female 36.005 0        no     northeast 13228.847\n",
       "22   30  female 32.400 1        no     southwest  4149.736\n",
       "23   18  male   34.100 0        no     southeast  1137.011\n",
       "24   34  female 31.920 1        yes    northeast 37701.877\n",
       "25   37  male   28.025 2        no     northwest  6203.902\n",
       "26   59  female 27.720 3        no     southeast 14001.134\n",
       "27   63  female 23.085 0        no     northeast 14451.835\n",
       "28   55  female 32.775 2        no     northwest 12268.632\n",
       "29   23  male   17.385 1        no     northwest  2775.192\n",
       "30   31  male   36.300 2        yes    southwest 38711.000\n",
       "...  ... ...    ...    ...      ...    ...       ...      \n",
       "1308 32  male   28.120 4        yes    northwest 21472.479\n",
       "1309 25  female 30.200 0        yes    southwest 33900.653\n",
       "1310 41  male   32.200 2        no     southwest  6875.961\n",
       "1311 42  male   26.315 1        no     northwest  6940.910\n",
       "1312 33  female 26.695 0        no     northwest  4571.413\n",
       "1313 34  male   42.900 1        no     southwest  4536.259\n",
       "1314 19  female 34.700 2        yes    southwest 36397.576\n",
       "1315 30  female 23.655 3        yes    northwest 18765.875\n",
       "1316 18  male   28.310 1        no     northeast 11272.331\n",
       "1317 19  female 20.600 0        no     southwest  1731.677\n",
       "1318 18  male   53.130 0        no     southeast  1163.463\n",
       "1319 35  male   39.710 4        no     northeast 19496.719\n",
       "1320 39  female 26.315 2        no     northwest  7201.701\n",
       "1321 31  male   31.065 3        no     northwest  5425.023\n",
       "1322 62  male   26.695 0        yes    northeast 28101.333\n",
       "1323 62  male   38.830 0        no     southeast 12981.346\n",
       "1324 42  female 40.370 2        yes    southeast 43896.376\n",
       "1325 31  male   25.935 1        no     northwest  4239.893\n",
       "1326 61  male   33.535 0        no     northeast 13143.337\n",
       "1327 42  female 32.870 0        no     northeast  7050.021\n",
       "1328 51  male   30.030 1        no     southeast  9377.905\n",
       "1329 23  female 24.225 2        no     northeast 22395.744\n",
       "1330 52  male   38.600 2        no     southwest 10325.206\n",
       "1331 57  female 25.740 2        no     southeast 12629.166\n",
       "1332 23  female 33.400 0        no     southwest 10795.937\n",
       "1333 52  female 44.700 3        no     southwest 11411.685\n",
       "1334 50  male   30.970 3        no     northwest 10600.548\n",
       "1335 18  female 31.920 0        no     northeast  2205.981\n",
       "1337 21  female 25.800 0        no     southwest  2007.945\n",
       "1338 61  female 29.070 0        yes    northwest 29141.360"
      ]
     },
     "metadata": {},
     "output_type": "display_data"
    },
    {
     "data": {
      "image/png": "[encoded data removed]",
      "text/plain": [
       "Plot with title \"Jacknife Residuals\""
      ]
     },
     "metadata": {},
     "output_type": "display_data"
    }
   ],
   "source": [
    "jack = rstudent(model2) #pozwala znajdywac obserwacje odstajace\n",
    "jack[which.max(abs(jack))]\n",
    "plot(jack, ylab=\"Jacknife Residuals\", main=\"Jacknife Residuals\")\n",
    "outliers <- which(abs(jack) > 2)\n",
    "library(dplyr)\n",
    "outliers_nie_wplywowe=outliers[! outliers %in% c(wplywowe)]\n",
    "outliers_nie_wplywowe\n",
    "data_without_outliers <- data[-c(outliers_nie_wplywowe),]\n",
    "data_without_outliers"
   ]
  },
  {
   "cell_type": "code",
   "execution_count": 560,
   "id": "ab383184",
   "metadata": {},
   "outputs": [
    {
     "data": {
      "text/plain": [
       "\n",
       "Call:\n",
       "glm(formula = data_without_outliers$charges ~ age + children + \n",
       "    smoker + children * smoker + bmi * smoker + age * smoker, \n",
       "    family = \"Gamma\", data = data_without_outliers)\n",
       "\n",
       "Deviance Residuals: \n",
       "     Min        1Q    Median        3Q       Max  \n",
       "-1.08467  -0.26679  -0.10036  -0.00834   2.58377  \n",
       "\n",
       "Coefficients:\n",
       "                     Estimate Std. Error z value Pr(>|z|)    \n",
       "(Intercept)         3.063e-04  2.141e-05  14.306  < 2e-16 ***\n",
       "age                -3.944e-06  2.811e-07 -14.027  < 2e-16 ***\n",
       "children           -9.111e-06  2.464e-06  -3.698 0.000218 ***\n",
       "smokeryes          -2.251e-04  2.378e-05  -9.467  < 2e-16 ***\n",
       "bmi                 1.043e-07  5.652e-07   0.185 0.853617    \n",
       "children:smokeryes  8.955e-06  2.937e-06   3.049 0.002293 ** \n",
       "smokeryes:bmi      -1.319e-06  6.164e-07  -2.139 0.032420 *  \n",
       "age:smokeryes       3.687e-06  3.087e-07  11.944  < 2e-16 ***\n",
       "---\n",
       "Signif. codes:  0 '***' 0.001 '**' 0.01 '*' 0.05 '.' 0.1 ' ' 1\n",
       "\n",
       "(Dispersion parameter for Gamma family taken to be 1)\n",
       "\n",
       "    Null deviance: 1028.82  on 1323  degrees of freedom\n",
       "Residual deviance:  308.91  on 1316  degrees of freedom\n",
       "AIC: 26019\n",
       "\n",
       "Number of Fisher Scoring iterations: 6\n"
      ]
     },
     "metadata": {},
     "output_type": "display_data"
    }
   ],
   "source": [
    "model5=glm(formula = data_without_outliers$charges~age+children+smoker+children*smoker+bmi*smoker+age*smoker, family=\"Gamma\", data = data_without_outliers)\n",
    "summary(model5, dispersion=1)"
   ]
  },
  {
   "cell_type": "code",
   "execution_count": 563,
   "id": "f296ed2d",
   "metadata": {},
   "outputs": [
    {
     "data": {
      "text/html": [
       "26869.2671491821"
      ],
      "text/latex": [
       "26869.2671491821"
      ],
      "text/markdown": [
       "26869.2671491821"
      ],
      "text/plain": [
       "[1] 26869.27"
      ]
     },
     "metadata": {},
     "output_type": "display_data"
    },
    {
     "data": {
      "text/html": [
       "26865.4347536686"
      ],
      "text/latex": [
       "26865.4347536686"
      ],
      "text/markdown": [
       "26865.4347536686"
      ],
      "text/plain": [
       "[1] 26865.43"
      ]
     },
     "metadata": {},
     "output_type": "display_data"
    },
    {
     "data": {
      "text/html": [
       "26290.8247990866"
      ],
      "text/latex": [
       "26290.8247990866"
      ],
      "text/markdown": [
       "26290.8247990866"
      ],
      "text/plain": [
       "[1] 26290.82"
      ]
     },
     "metadata": {},
     "output_type": "display_data"
    },
    {
     "data": {
      "text/html": [
       "26300.9567615349"
      ],
      "text/latex": [
       "26300.9567615349"
      ],
      "text/markdown": [
       "26300.9567615349"
      ],
      "text/plain": [
       "[1] 26300.96"
      ]
     },
     "metadata": {},
     "output_type": "display_data"
    },
    {
     "data": {
      "text/html": [
       "<table>\n",
       "<thead><tr><th scope=col>Resid. Df</th><th scope=col>Resid. Dev</th><th scope=col>Df</th><th scope=col>Deviance</th><th scope=col>Pr(&gt;Chi)</th></tr></thead>\n",
       "<tbody>\n",
       "\t<tr><td>1329        </td><td>478.6984    </td><td>NA          </td><td>      NA    </td><td>          NA</td></tr>\n",
       "\t<tr><td>1321        </td><td>313.3181    </td><td> 8          </td><td>165.3804    </td><td>1.296113e-77</td></tr>\n",
       "</tbody>\n",
       "</table>\n"
      ],
      "text/latex": [
       "\\begin{tabular}{r|lllll}\n",
       " Resid. Df & Resid. Dev & Df & Deviance & Pr(>Chi)\\\\\n",
       "\\hline\n",
       "\t 1329         & 478.6984     & NA           &       NA     &           NA\\\\\n",
       "\t 1321         & 313.3181     &  8           & 165.3804     & 1.296113e-77\\\\\n",
       "\\end{tabular}\n"
      ],
      "text/markdown": [
       "\n",
       "| Resid. Df | Resid. Dev | Df | Deviance | Pr(>Chi) |\n",
       "|---|---|---|---|---|\n",
       "| 1329         | 478.6984     | NA           |       NA     |           NA |\n",
       "| 1321         | 313.3181     |  8           | 165.3804     | 1.296113e-77 |\n",
       "\n"
      ],
      "text/plain": [
       "  Resid. Df Resid. Dev Df Deviance Pr(>Chi)    \n",
       "1 1329      478.6984   NA       NA           NA\n",
       "2 1321      313.3181    8 165.3804 1.296113e-77"
      ]
     },
     "metadata": {},
     "output_type": "display_data"
    },
    {
     "data": {
      "text/html": [
       "26018.7096296989"
      ],
      "text/latex": [
       "26018.7096296989"
      ],
      "text/markdown": [
       "26018.7096296989"
      ],
      "text/plain": [
       "[1] 26018.71"
      ]
     },
     "metadata": {},
     "output_type": "display_data"
    }
   ],
   "source": [
    "AIC(model1)\n",
    "AIC(model2)\n",
    "AIC(model3)\n",
    "AIC(model4)\n",
    "anova(model1, model3, test=\"LRT\")\n",
    "AIC(model5)"
   ]
  },
  {
   "cell_type": "code",
   "execution_count": 586,
   "id": "1f46d768",
   "metadata": {},
   "outputs": [
    {
     "data": {
      "text/html": [
       "<strong>1:</strong> Inf"
      ],
      "text/latex": [
       "\\textbf{1:} Inf"
      ],
      "text/markdown": [
       "**1:** Inf"
      ],
      "text/plain": [
       "  1 \n",
       "Inf "
      ]
     },
     "metadata": {},
     "output_type": "display_data"
    },
    {
     "data": {
      "text/html": [
       "16884.924"
      ],
      "text/latex": [
       "16884.924"
      ],
      "text/markdown": [
       "16884.924"
      ],
      "text/plain": [
       "[1] 16884.92"
      ]
     },
     "metadata": {},
     "output_type": "display_data"
    }
   ],
   "source": [
    "predykcja=data[1, 1:6]\n",
    "x=predict(model5, newdata=predykcja, type=\"response\")\n",
    "exp(x)\n",
    "data[1, 7]"
   ]
  },
  {
   "cell_type": "markdown",
   "id": "997de03d",
   "metadata": {},
   "source": [
    "Nie udało się zrobić predykcji na podstawie tego modelu, co wskazuje na to, że nie jest dobry w tym przypadku"
   ]
  },
  {
   "cell_type": "code",
   "execution_count": 570,
   "id": "b586c853",
   "metadata": {},
   "outputs": [
    {
     "data": {
      "image/png": "[encoded data removed]",
      "text/plain": [
       "plot without title"
      ]
     },
     "metadata": {},
     "output_type": "display_data"
    }
   ],
   "source": [
    "library(boot)\n",
    "diag <- glm.diag(model5)\n",
    "glm.diag.plots(model5, diag)"
   ]
  },
  {
   "cell_type": "markdown",
   "id": "ec228de1",
   "metadata": {},
   "source": [
    "Po dodaniu do modelu interakcji i usunięciu wartości odstajających nie wspływowych udało się znacząco polepszyć też ten model, lecz znów jeżeli zrobimy diagnoże wizualną, to zobaczymy, że model nie jest idealny."
   ]
  },
  {
   "cell_type": "markdown",
   "id": "a0e23264",
   "metadata": {},
   "source": [
    "Podsumowując, zbudowano dwa różne modele, liniowy i uogólniony liniowy. W obu przypadkach dodano interakcję i usunięto dane ostajające, co znacząco poprawiło oba modele, lecz diagnoza wiazualna obu modeli wskazuje na to, że założenia do stosowania tych modeli nie są do końca spełnione (np. w przypadku modelu liniowego dane nasze nie mieli rozkładu normalnego), więc nie będą dawać bardzo precyzyjnych predykcji. Biorąc pod uwagę dwa te typy modeli, lepszym modelem jest model liniowy, ponieważ ma znacznie mniejsze AIC niż model uogólniony liniowy."
   ]
  }
 ],
 "metadata": {
  "kernelspec": {
   "display_name": "R",
   "language": "R",
   "name": "ir"
  },
  "language_info": {
   "codemirror_mode": "r",
   "file_extension": ".r",
   "mimetype": "text/x-r-source",
   "name": "R",
   "pygments_lexer": "r",
   "version": "3.6.1"
  }
 },
 "nbformat": 4,
 "nbformat_minor": 5
}
